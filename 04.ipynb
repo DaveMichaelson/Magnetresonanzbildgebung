{
 "cells": [
  {
   "cell_type": "markdown",
   "metadata": {
    "collapsed": true
   },
   "source": [
    "### Übung 04 - Bewegungsartefakte"
   ]
  },
  {
   "cell_type": "markdown",
   "metadata": {},
   "source": [
    "## Hinweis\n",
    "\n",
    "In einigen Aufgaben wählen sie selbsständig Werte um Funktionen aufzurufen. Sollten sie nach Abschluss der Aufgaben noch Zeit haben, nutzen sie die Gelegenheit und probieren sie die Werte interaktiv zu setzen um zum Beispiel mit Schiebereglern ein besseres Verständnis für Auswirkungen und Nebeneffekte von verschiedenen Eingabewerten zu erhalten.\n",
    "\n",
    "[ipywidgets](https://ipywidgets.readthedocs.io/en/latest/examples/Widget%20List.html#Numeric-widgets)"
   ]
  },
  {
   "cell_type": "code",
   "execution_count": 2,
   "outputs": [],
   "source": [
    "import numpy as np\n",
    "from matplotlib import pyplot as plt\n",
    "from matplotlib import colors"
   ],
   "metadata": {
    "collapsed": false,
    "pycharm": {
     "name": "#%%\n"
    }
   }
  },
  {
   "cell_type": "code",
   "execution_count": 3,
   "metadata": {},
   "outputs": [],
   "source": [
    "# platzieren Sie die Datei \"phantom_256x256.npy\" im selben Ordner wie dieses Notebook, bevor Sie diese Zelle ausführen\n",
    "plt.rcParams[\"figure.figsize\"] = (20,10)\n",
    "kspace = np.load('phantom_256x256.npy')\n",
    "image = np.fft.ifftshift(np.fft.ifft2(np.fft.ifftshift(kspace)))"
   ]
  },
  {
   "cell_type": "markdown",
   "source": [
    "## Aufgabe 1 - Translationsbewegung\n",
    "\n",
    "Eine Translationsbewegung ist eine Verschiebung eines Objektes im Raum. Das heißt, das zu scannende Objekt wird zum Beispiel in x- oder y-Richtung verschoben. Simulieren Sie eine Translationsbewegung, indem Sie das Objekt im rekonstruierten Bild (in der Variable `image`) verschieden weit in x- und/oder -y Richtung verschieben.\n",
    "Transformieren Sie das verschobene Bild dann wieder in den k-Raum. Probieren Sie das ganze für verschieden starke Translationsbewegungen und -richtungen aus und beobachten Sie den Effekt der Translationsbewegung auf den k-Raum (Betrag und Phase).\n",
    "\n",
    "Tipp 1: Definieren Sie sich zunächst eine Funktion, die die Transformation in den k-Raum durchführt. Testen Sie die Funktion, indem Sie das Ergebnis Ihrer Funktion mit dem ursprünglichen k-Raum (in der Variable `kspace`) vergleichen.\n",
    "\n",
    "Tipp 2: Für die Translationsbewegung könnte die Funktion `numpy.roll` helfen.\n",
    "\n",
    "Tipp 3: Nutzen Sie beim k-Raum für die Visualisierung immer eine logarithmische Skala für den Betrag und eine lineare Skala für die Phase.\n",
    "\n",
    "Tipp 4: Es kann für die Beobachtung helfen Slider für die x- und y-Verschiebung zu verwenden (über ipywidgets)"
   ],
   "metadata": {
    "collapsed": false,
    "pycharm": {
     "name": "#%% md\n"
    }
   }
  },
  {
   "cell_type": "code",
   "execution_count": 3,
   "outputs": [],
   "source": [],
   "metadata": {
    "collapsed": false,
    "pycharm": {
     "name": "#%%\n"
    }
   }
  },
  {
   "cell_type": "markdown",
   "source": [
    "Wie verändert die Translationsbewegung den k-Raum? Überlegen Sie sich außerdem, warum das so ist.\n",
    "\n",
    "<span style=\"color:blue\">(TODO - Schreiben Sie Ihre Antwort hier hin!) </span>"
   ],
   "metadata": {
    "collapsed": false,
    "pycharm": {
     "name": "#%% md\n"
    }
   }
  },
  {
   "cell_type": "markdown",
   "source": [
    "## Aufgabe 2 - Translationsbewegung während der Aufnahme (y-Richtung)\n",
    "\n",
    "Simulieren Sie nun, wie sich eine Translationsbewegung bei einer MRT-Aufnahme auswirkt. Das Objekt soll sich mit jeder vierten aufgenommenen k-Raum-Zeile um einen Pixel in y-Richtung bewegen. Sobald es sich um insgesamt 5 Pixel bewegt hat, soll es sich wieder in negative y-Richtung bewegen, bis es bei -5 Pixeln von der Ausgangsposition angekommen ist. Dann soll es wieder die Richtung ändern, bis es bei +5 Pixeln von der Ausgangsposition angekommen ist, usw. bis der k-Raum gefüllt ist.\n",
    "Rekonstruieren Sie dann das Bild, aus dem auf diese Weise generierten k-Raum und visualisieren Sie es.\n",
    "\n",
    "Hinweis: Die Phasenkodierung erfolgt in y-Richtung"
   ],
   "metadata": {
    "collapsed": false,
    "pycharm": {
     "name": "#%% md\n"
    }
   }
  },
  {
   "cell_type": "code",
   "execution_count": 3,
   "outputs": [],
   "source": [],
   "metadata": {
    "collapsed": false,
    "pycharm": {
     "name": "#%%\n"
    }
   }
  },
  {
   "cell_type": "markdown",
   "source": [
    "Wie zeigt sich die Bewegung im Bild?\n",
    "\n",
    "<span style=\"color:blue\">(TODO - Schreiben Sie Ihre Antwort hier hin!) </span>"
   ],
   "metadata": {
    "collapsed": false,
    "pycharm": {
     "name": "#%% md\n"
    }
   }
  },
  {
   "cell_type": "markdown",
   "source": [
    "## Aufgabe 3 - Translationsbewegung während der Aufnahme (x-Richtung)\n",
    "\n",
    "Führen Sie das gleiche \"Experiment\" wie in der vorherigen Aufgabe durch nur, dass diesmal die Bewegung in x-Richtung passieren soll."
   ],
   "metadata": {
    "collapsed": false,
    "pycharm": {
     "name": "#%% md\n"
    }
   }
  },
  {
   "cell_type": "code",
   "execution_count": null,
   "outputs": [],
   "source": [],
   "metadata": {
    "collapsed": false,
    "pycharm": {
     "name": "#%%\n"
    }
   }
  },
  {
   "cell_type": "markdown",
   "source": [
    "Wie zeigt sich die Bewegung nun? Vergleichen Sie dieses Bild mit dem aus der letzten Aufgabe\n",
    "\n",
    "<span style=\"color:blue\">(TODO - Schreiben Sie Ihre Antwort hier hin!) </span>"
   ],
   "metadata": {
    "collapsed": false,
    "pycharm": {
     "name": "#%% md\n"
    }
   }
  },
  {
   "cell_type": "markdown",
   "source": [
    "## Aufgabe 4\n",
    "\n",
    "Wir nehmen nun an, dass die Bewegung nur in einer Hälfte der Zeilen auftritt, und zwar einmal während der Mitte (Zeilen 64 bis 191) und einmal am Anfang & Ende (Zeilen 0 bis 63 und 192 bis 255). Simulieren Sie beide Szenarien und visualisieren Sie die entstehenden Bilder."
   ],
   "metadata": {
    "collapsed": false,
    "pycharm": {
     "name": "#%% md\n"
    }
   }
  },
  {
   "cell_type": "code",
   "execution_count": null,
   "outputs": [],
   "source": [],
   "metadata": {
    "collapsed": false,
    "pycharm": {
     "name": "#%%\n"
    }
   }
  },
  {
   "cell_type": "markdown",
   "source": [
    "Was fällt auf?\n",
    "\n",
    "<span style=\"color:blue\">(TODO - Schreiben Sie Ihre Antwort hier hin!) </span>"
   ],
   "metadata": {
    "collapsed": false,
    "pycharm": {
     "name": "#%% md\n"
    }
   }
  },
  {
   "cell_type": "markdown",
   "source": [
    "## Aufgabe 5 - Rotationsbewegung\n",
    "\n",
    "In dieser Aufgabe werden wir den Einfluss von Rotationsbewegungen auf den k-Raum untersuchen. Simulieren Sie daher ähnlich wie in Aufgabe 1 ein Rotationsbewegung, indem Sie das Objekt im Bildraum um verschiedene Winkel rotieren und den Effekt auf den k-Raum beobachten.\n",
    "\n",
    "Tipp: Für die Rotation lohnt sich ein Blick auf die Funktion `scipy.ndimage.rotate`\n"
   ],
   "metadata": {
    "collapsed": false,
    "pycharm": {
     "name": "#%% md\n"
    }
   }
  },
  {
   "cell_type": "code",
   "execution_count": null,
   "outputs": [],
   "source": [],
   "metadata": {
    "collapsed": false,
    "pycharm": {
     "name": "#%%\n"
    }
   }
  },
  {
   "cell_type": "markdown",
   "source": [
    "Beschreiben Sie, wie sich die Rotationsbewegung auswirkt und überlegen Sie, warum das so sein könnte.\n",
    "\n",
    "<span style=\"color:blue\">(TODO - Schreiben Sie Ihre Antwort hier hin!) </span>"
   ],
   "metadata": {
    "collapsed": false,
    "pycharm": {
     "name": "#%% md\n"
    }
   }
  },
  {
   "cell_type": "markdown",
   "source": [
    "## Aufgabe 6 - Rotationsbewegung während der Aufnahme\n",
    "\n",
    "Ähnlich wie in den Aufgaben 2 und 3 soll nun simuliert werden, dass das Objekt sich während der Aufnahme bewegt. Das Objekt soll alternierend zwischen +2° und -2° vom Ausgangszustand rotiert werden. Mit jeder aufgenommenen Zeile, soll es um 2° (bzw. -2°) rotiert werden.\n",
    "Visualisieren Sie das dabei entstandene Bild."
   ],
   "metadata": {
    "collapsed": false,
    "pycharm": {
     "name": "#%% md\n"
    }
   }
  },
  {
   "cell_type": "code",
   "execution_count": 3,
   "outputs": [],
   "source": [],
   "metadata": {
    "collapsed": false,
    "pycharm": {
     "name": "#%%\n"
    }
   }
  },
  {
   "cell_type": "markdown",
   "source": [
    "Beschreiben Sie, was auf dem Bild zu sehen ist. Wie ist das zu erklären?\n",
    "\n",
    "<span style=\"color:blue\">(TODO - Schreiben Sie Ihre Antwort hier hin!) </span>"
   ],
   "metadata": {
    "collapsed": false,
    "pycharm": {
     "name": "#%% md\n"
    }
   }
  }
 ],
 "metadata": {
  "kernelspec": {
   "display_name": "Python 3 (ipykernel)",
   "language": "python",
   "name": "python3"
  },
  "language_info": {
   "codemirror_mode": {
    "name": "ipython",
    "version": 3
   },
   "file_extension": ".py",
   "mimetype": "text/x-python",
   "name": "python",
   "nbconvert_exporter": "python",
   "pygments_lexer": "ipython3",
   "version": "3.10.4"
  }
 },
 "nbformat": 4,
 "nbformat_minor": 1
}