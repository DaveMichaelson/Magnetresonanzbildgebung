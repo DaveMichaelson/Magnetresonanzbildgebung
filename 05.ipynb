{
 "cells": [
  {
   "cell_type": "markdown",
   "metadata": {
    "collapsed": true
   },
   "source": [
    "### Übung 05 - Partial Fourier Imaging\n",
    "\n",
    "Die effektivste Methode, um Bewegungsartefakte zu vermeiden, ist die Aufnahmezeit zu reduzieren. Eine Möglichkeit dafür bietet das \"Partial Fourier Imaging\". Hier wird die hermitesche Symmetrie des k-Raums ausgenutzt, um nur die Hälfte der Datenpunkte aquirieren zu müssen. Trotzdem wird diese Technik nicht oft verwendet. In diesem Notebook soll der Grund dafür ermittelt werden.\n"
   ]
  },
  {
   "cell_type": "code",
   "execution_count": 1,
   "outputs": [],
   "source": [
    "import numpy as np\n",
    "from matplotlib import pyplot as plt\n",
    "from matplotlib import colors"
   ],
   "metadata": {
    "collapsed": false,
    "pycharm": {
     "name": "#%%\n"
    }
   }
  },
  {
   "cell_type": "code",
   "execution_count": 2,
   "metadata": {},
   "outputs": [],
   "source": [
    "# platzieren Sie die Datei \"phantom_256x256.npy\" im selben Ordner wie dieses Notebook, bevor Sie diese Zelle ausführen\n",
    "plt.rcParams[\"figure.figsize\"] = (20,10)\n",
    "kspace = np.load('phantom_256x256.npy')"
   ]
  },
  {
   "cell_type": "markdown",
   "metadata": {},
   "source": [
    "## Aufgabe 1 - Partial Fourier Imaging"
   ]
  },
  {
   "cell_type": "markdown",
   "source": [
    "Der k-Raum besitzt eine hermitesche Symmetrie. Das bedeutet er ist bis auf komplexe Konjugation punktsymmetrisch. Mathematisch ausgedrückt gilt also für einen Punkt $M(k_x,k_y)$ im k-Raum, dass\n",
    "$$\n",
    "M(k_x,k_y) = M(-k_x,-k_y)^\\ast\n",
    "$$\n",
    "\n",
    "Überlegen Sie sich zunächst, wie diese hermitesche Symmetrie zustande kommt.\n",
    "Tipp1: Welchen Einfluss hat die komplexe Konjugation auf die Phase?\n",
    "Tipp2: Was sagt die Position im k-Raum über den Gradienten aus, der während der Aufnahme geschaltet wurde?\n",
    "\n",
    "<span style=\"color:blue\">(TODO - Schreiben Sie Ihre Antwort hier hin!) </span>"
   ],
   "metadata": {
    "collapsed": false,
    "pycharm": {
     "name": "#%% md\n"
    }
   }
  },
  {
   "cell_type": "markdown",
   "metadata": {},
   "source": [
    "Bei einem k-Raum mit den Dimensionen 256x256 kann die hermitesche Symmetrie bei jeweils einer Zeile und Spalte nicht ausgenutzt werden. Welche?\n",
    "Löschen Sie diese beiden aus dem k-Raum, sodass der k-Raum also nur noch die Dimensionen 255x255 hat."
   ]
  },
  {
   "cell_type": "code",
   "execution_count": 2,
   "metadata": {},
   "outputs": [],
   "source": []
  },
  {
   "cell_type": "markdown",
   "metadata": {},
   "source": [
    "Verwerfen (auf 0 setzen) Sie exemplarisch die untere Hälte (also 127 Zeilen) des K-Raums und stellen Sie das Ergbnis dar (der Betrag reicht)."
   ]
  },
  {
   "cell_type": "code",
   "execution_count": 2,
   "metadata": {},
   "outputs": [],
   "source": []
  },
  {
   "cell_type": "markdown",
   "metadata": {},
   "source": [
    "Berechnen Sie nun die untere Hälfte des K-Raums ausschließlich unter Verwendung der oberen. Speichern Sie das Ergebnis in einem neuen Array und stellen Sie es dar."
   ]
  },
  {
   "cell_type": "code",
   "execution_count": 2,
   "metadata": {},
   "outputs": [],
   "source": []
  },
  {
   "cell_type": "markdown",
   "metadata": {},
   "source": [
    "Fügen sie die beiden Häften zu einem heilen K-Raum zusammen und rekonstruieren sie das Bild."
   ]
  },
  {
   "cell_type": "code",
   "execution_count": 2,
   "metadata": {},
   "outputs": [],
   "source": []
  },
  {
   "cell_type": "markdown",
   "source": [
    "Entspricht dieses Bild dem Original? Prüfen Sie das, indem Sie ein Differenzbild erzeugen."
   ],
   "metadata": {
    "collapsed": false,
    "pycharm": {
     "name": "#%% md\n"
    }
   }
  },
  {
   "cell_type": "code",
   "execution_count": 2,
   "outputs": [],
   "source": [],
   "metadata": {
    "collapsed": false,
    "pycharm": {
     "name": "#%%\n"
    }
   }
  },
  {
   "cell_type": "markdown",
   "metadata": {},
   "source": [
    "## Aufgabe 2 - Phasenfehler"
   ]
  },
  {
   "cell_type": "markdown",
   "metadata": {},
   "source": [
    "In der Realität werden die aufgenommenen Daten einem gewissen Rauschen unterliegen. Zustäzlich kommen andere Faktoren wie ein nicht ganz homogenes B0-Feld hinzu. Diese Störfaktoren haben Einfluss auf die Phase im Bildraum.\n",
    "Simulieren Sie eine solche Störung, indem Sie das rekonstruierte Bild in jedem Pixel mit einer normalverteilt zufälligen Phase multiplizieren.\n",
    "\n",
    "Transformieren Sie das Bild zurück in den k-Raum. Gehen Sie dann mit diesem k-Raum die Schritte aus Aufgabe 1 erneut durch.\n",
    "Probieren Sie ruhig verschiedene Werte für die Standardabweichung der zufälligen Phase aus.\n",
    "\n",
    "Tipp 1: Die Funktion `numpy.random.randn` kann hier helfen.\n",
    "\n",
    "Tipp 2: Rufen Sie sich zunächst in Erinnerung, was die Phase einer komplexen Zahl ist"
   ]
  },
  {
   "cell_type": "code",
   "execution_count": 2,
   "metadata": {},
   "outputs": [],
   "source": []
  },
  {
   "cell_type": "markdown",
   "metadata": {
    "pycharm": {
     "name": "#%% md\n"
    }
   },
   "source": [
    "Wie unterscheidet sich das jetzige vom vorherigen Bild? Wie ist das zu erklären?\n",
    "\n",
    "<span style=\"color:blue\">(TODO - Schreiben Sie Ihre Antwort hier hin!) </span>"
   ]
  }
 ],
 "metadata": {
  "kernelspec": {
   "display_name": "Python 3 (ipykernel)",
   "language": "python",
   "name": "python3"
  },
  "language_info": {
   "codemirror_mode": {
    "name": "ipython",
    "version": 3
   },
   "file_extension": ".py",
   "mimetype": "text/x-python",
   "name": "python",
   "nbconvert_exporter": "python",
   "pygments_lexer": "ipython3",
   "version": "3.10.4"
  }
 },
 "nbformat": 4,
 "nbformat_minor": 1
}