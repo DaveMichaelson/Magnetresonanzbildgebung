{
 "cells": [
  {
   "cell_type": "markdown",
   "metadata": {
    "collapsed": true
   },
   "source": [
    "### Übung 06 - NDFT\n",
    "\n",
    "Die nicht-uniforme diskrete Fouriertransformation ist eine Möglichkeit zur Rekonstruktion von Daten mit beliebigen Trajektorien. Allerdings birgt sie große Probleme\n"
   ]
  },
  {
   "cell_type": "code",
   "execution_count": 1,
   "metadata": {
    "pycharm": {
     "name": "#%%\n"
    }
   },
   "outputs": [],
   "source": [
    "import numpy as np\n",
    "from matplotlib import pyplot as plt\n",
    "from matplotlib import colors"
   ]
  },
  {
   "cell_type": "code",
   "execution_count": 2,
   "metadata": {},
   "outputs": [],
   "source": [
    "plt.rcParams[\"figure.figsize\"] = (10,10)"
   ]
  },
  {
   "cell_type": "markdown",
   "metadata": {},
   "source": [
    "## Aufgabe 1 - Die Trajektorie\n",
    "\n",
    "Um nicht-uniforme k-Raum Daten zu rekonstruieren, benötigt man zunächst die Trajektorie. Hier werden wir eine radiale Trajektorie verwenden. Schreiben Sie eine Funktion, die als Eingabe eine Anzahl an Samples pro Spoke und eine Anzahl Spokes bekommt. Ein Spoke ist eine k-Raum-Linie. Diese Funktion soll dann die Trajektorie in Form von $k_x$- und $k_y$-Koordinaten zurückgeben. Die Spokes sollen immer um den Golden Angle gedreht werden.\n",
    "\n",
    "Bei 256 Samples pro Readout sollte z.B. der erste Spoke in 1-er Schritten von $k_x = -128$ bist $k_x = 127$ gehen. $k_y$ ist dabei 0."
   ]
  },
  {
   "cell_type": "code",
   "execution_count": 18,
   "metadata": {
    "pycharm": {
     "name": "#%%\n"
    }
   },
   "outputs": [
    {
     "name": "stdout",
     "output_type": "stream",
     "text": [
      "[[-128. -127. -126. -125. -124. -123. -122. -121. -120. -119. -118. -117.\n",
      "  -116. -115. -114. -113. -112. -111. -110. -109. -108. -107. -106. -105.\n",
      "  -104. -103. -102. -101. -100.  -99.  -98.  -97.  -96.  -95.  -94.  -93.\n",
      "   -92.  -91.  -90.  -89.  -88.  -87.  -86.  -85.  -84.  -83.  -82.  -81.\n",
      "   -80.  -79.  -78.  -77.  -76.  -75.  -74.  -73.  -72.  -71.  -70.  -69.\n",
      "   -68.  -67.  -66.  -65.  -64.  -63.  -62.  -61.  -60.  -59.  -58.  -57.\n",
      "   -56.  -55.  -54.  -53.  -52.  -51.  -50.  -49.  -48.  -47.  -46.  -45.\n",
      "   -44.  -43.  -42.  -41.  -40.  -39.  -38.  -37.  -36.  -35.  -34.  -33.\n",
      "   -32.  -31.  -30.  -29.  -28.  -27.  -26.  -25.  -24.  -23.  -22.  -21.\n",
      "   -20.  -19.  -18.  -17.  -16.  -15.  -14.  -13.  -12.  -11.  -10.   -9.\n",
      "    -8.   -7.   -6.   -5.   -4.   -3.   -2.   -1.    0.    1.    2.    3.\n",
      "     4.    5.    6.    7.    8.    9.   10.   11.   12.   13.   14.   15.\n",
      "    16.   17.   18.   19.   20.   21.   22.   23.   24.   25.   26.   27.\n",
      "    28.   29.   30.   31.   32.   33.   34.   35.   36.   37.   38.   39.\n",
      "    40.   41.   42.   43.   44.   45.   46.   47.   48.   49.   50.   51.\n",
      "    52.   53.   54.   55.   56.   57.   58.   59.   60.   61.   62.   63.\n",
      "    64.   65.   66.   67.   68.   69.   70.   71.   72.   73.   74.   75.\n",
      "    76.   77.   78.   79.   80.   81.   82.   83.   84.   85.   86.   87.\n",
      "    88.   89.   90.   91.   92.   93.   94.   95.   96.   97.   98.   99.\n",
      "   100.  101.  102.  103.  104.  105.  106.  107.  108.  109.  110.  111.\n",
      "   112.  113.  114.  115.  116.  117.  118.  119.  120.  121.  122.  123.\n",
      "   124.  125.  126.  127.]\n",
      " [   0.    0.    0.    0.    0.    0.    0.    0.    0.    0.    0.    0.\n",
      "     0.    0.    0.    0.    0.    0.    0.    0.    0.    0.    0.    0.\n",
      "     0.    0.    0.    0.    0.    0.    0.    0.    0.    0.    0.    0.\n",
      "     0.    0.    0.    0.    0.    0.    0.    0.    0.    0.    0.    0.\n",
      "     0.    0.    0.    0.    0.    0.    0.    0.    0.    0.    0.    0.\n",
      "     0.    0.    0.    0.    0.    0.    0.    0.    0.    0.    0.    0.\n",
      "     0.    0.    0.    0.    0.    0.    0.    0.    0.    0.    0.    0.\n",
      "     0.    0.    0.    0.    0.    0.    0.    0.    0.    0.    0.    0.\n",
      "     0.    0.    0.    0.    0.    0.    0.    0.    0.    0.    0.    0.\n",
      "     0.    0.    0.    0.    0.    0.    0.    0.    0.    0.    0.    0.\n",
      "     0.    0.    0.    0.    0.    0.    0.    0.    0.    0.    0.    0.\n",
      "     0.    0.    0.    0.    0.    0.    0.    0.    0.    0.    0.    0.\n",
      "     0.    0.    0.    0.    0.    0.    0.    0.    0.    0.    0.    0.\n",
      "     0.    0.    0.    0.    0.    0.    0.    0.    0.    0.    0.    0.\n",
      "     0.    0.    0.    0.    0.    0.    0.    0.    0.    0.    0.    0.\n",
      "     0.    0.    0.    0.    0.    0.    0.    0.    0.    0.    0.    0.\n",
      "     0.    0.    0.    0.    0.    0.    0.    0.    0.    0.    0.    0.\n",
      "     0.    0.    0.    0.    0.    0.    0.    0.    0.    0.    0.    0.\n",
      "     0.    0.    0.    0.    0.    0.    0.    0.    0.    0.    0.    0.\n",
      "     0.    0.    0.    0.    0.    0.    0.    0.    0.    0.    0.    0.\n",
      "     0.    0.    0.    0.    0.    0.    0.    0.    0.    0.    0.    0.\n",
      "     0.    0.    0.    0.]]\n"
     ]
    }
   ],
   "source": [
    "def compute_spokes(n_samples_per_spoke, n_spokes):\n",
    "    golden_angle = 2 * np.pi * (-111.25) / 360\n",
    "    angles = np.arange(n_spokes) * golden_angle % (2 * np.pi)\n",
    "    kx_ranges = np.array([-128 * np.cos(angles), 127 * np.cos(angles)])\n",
    "    ky_ranges = np.array([-128 * np.sin(angles), 127 * np.sin(angles)])\n",
    "    x_values = np.reshape(np.linspace(kx_ranges[0,:], kx_ranges[1,:], num=n_samples_per_spoke), (1, n_samples_per_spoke * n_spokes))\n",
    "    y_values = np.reshape(np.linspace(ky_ranges[0,:], ky_ranges[1,:], num=n_samples_per_spoke), (1, n_samples_per_spoke * n_spokes))\n",
    "    return np.concatenate((x_values, y_values), axis=0)\n"
   ]
  },
  {
   "cell_type": "markdown",
   "metadata": {
    "pycharm": {
     "name": "#%% md\n"
    }
   },
   "source": [
    "Rufen Sie die von Ihnen geschriebene Funktion mit 10 Spokes und 256 Samples pro Spoke auf und visualisieren Sie die Trajektorie.\n",
    "Dafür können Sie zum Beispiel die Funktion `pyplot.plot` verwenden."
   ]
  },
  {
   "cell_type": "code",
   "execution_count": null,
   "metadata": {
    "pycharm": {
     "name": "#%%\n"
    }
   },
   "outputs": [],
   "source": []
  },
  {
   "cell_type": "markdown",
   "metadata": {},
   "source": [
    "Wie unterscheidet sich die Dichte der gesampleten Punkte im k-Raum gegenüber dem kartesischen Sampling? Was könnte das für Konsequenzen haben?\n",
    "\n",
    "<span style=\"color:blue\">(TODO - Schreiben Sie Ihre Antwort hier hin!) </span>"
   ]
  },
  {
   "cell_type": "markdown",
   "metadata": {},
   "source": [
    "## Aufgabe 2 - Die NDFT"
   ]
  },
  {
   "cell_type": "markdown",
   "metadata": {},
   "source": [
    "Laden Sie die Dateien `phantom_radial_32.npy`, `phantom_radial_64.npy`, `phantom_radial_128.npy` und `phantom_radial_256.npy` aus Stud.IP herunter. Platzieren Sie diese im selben Ordner, wie dieses Notebook und führen Sie dann die folgende Code-Zeile aus."
   ]
  },
  {
   "cell_type": "code",
   "execution_count": 2,
   "metadata": {},
   "outputs": [],
   "source": [
    "kspace32 = np.load('phantom_radial_32.npy')\n",
    "kspace64 = np.load('phantom_radial_64.npy')\n",
    "kspace128 = np.load('phantom_radial_128.npy')\n",
    "kspace256 = np.load('phantom_radial_256.npy')"
   ]
  },
  {
   "cell_type": "markdown",
   "metadata": {
    "pycharm": {
     "name": "#%% md\n"
    }
   },
   "source": [
    "Die eingelesenen Daten sind radial gesampled und mit dem Golden Angle gedreht. Visualisieren Sie zunächst den `kspace256` (als wäre es ein reguläres 2D-Bild) mit logarithmischer Skala."
   ]
  },
  {
   "cell_type": "code",
   "execution_count": null,
   "metadata": {
    "pycharm": {
     "name": "#%%\n"
    }
   },
   "outputs": [],
   "source": []
  },
  {
   "cell_type": "markdown",
   "metadata": {
    "pycharm": {
     "name": "#%% md\n"
    }
   },
   "source": [
    "Welche der beiden Dimensionen gibt die Spokes und welche die Readouts pro Spoke an? Begründen Sie Ihre Antwort.\n",
    "\n",
    "<span style=\"color:blue\">(TODO - Schreiben Sie Ihre Antwort hier hin!) </span>"
   ]
  },
  {
   "cell_type": "markdown",
   "metadata": {
    "pycharm": {
     "name": "#%% md\n"
    }
   },
   "source": [
    "Rekonstruieren Sie nun zunächst den `kspace32` mit der iNDFT und stellen Sie es dar. Es handelt sich hier um das gleiche Phantom, wie in den vorherigen Aufgaben. Die Bilder sind nur teilweise niedriger aufgelöst.\n",
    "Tipp: Sie müssen mithilfe der Funktion aus Aufgabe 1 erst einmal eine Trajektorie berechnen."
   ]
  },
  {
   "cell_type": "code",
   "execution_count": null,
   "metadata": {
    "pycharm": {
     "name": "#%%\n"
    }
   },
   "outputs": [],
   "source": []
  },
  {
   "cell_type": "markdown",
   "metadata": {
    "pycharm": {
     "name": "#%% md\n"
    }
   },
   "source": [
    "Schreiben Sie nun eine Funktion, die die iNDFT für beliebige Eingabegrößen berechnet, indem die k-Raum Daten und die Trajektorie übergeben wird. Die Berechnung sollte ohne for-Schleifen laufen, also nur mit numpy-Funktionen auskommen."
   ]
  },
  {
   "cell_type": "code",
   "execution_count": null,
   "metadata": {
    "pycharm": {
     "name": "#%%\n"
    }
   },
   "outputs": [],
   "source": []
  },
  {
   "cell_type": "markdown",
   "metadata": {
    "pycharm": {
     "name": "#%% md\n"
    }
   },
   "source": [
    "Wenden Sie nun Ihre Funktion nacheinander auf alle zu Anfang dieser Aufgabe eingelesenen k-Raum Daten an und stellen Sie das Ergebnis dar. Messen Sie dabei die Zeit, die die Rekonstruktion benötigt."
   ]
  },
  {
   "cell_type": "code",
   "execution_count": null,
   "metadata": {
    "pycharm": {
     "name": "#%%\n"
    }
   },
   "outputs": [],
   "source": []
  },
  {
   "cell_type": "markdown",
   "metadata": {
    "pycharm": {
     "name": "#%% md\n"
    }
   },
   "source": [
    "Wie skaliert die Laufzeit Ihrer Funktion in Abhängigkeit von der Eingabelänge (O-Notation)? Ist diese Art der Bildrekonstruktion praxistauglich?\n",
    "\n",
    "<span style=\"color:blue\">(TODO - Schreiben Sie Ihre Antwort hier hin!) </span>"
   ]
  },
  {
   "cell_type": "markdown",
   "metadata": {
    "pycharm": {
     "name": "#%% md\n"
    }
   },
   "source": [
    "Die rekonstruierten Bilder sollten recht verwaschen aussehen. Woran könnte das liegen?\n",
    "Tipp: Schauen Sie noch einmal auf die Visualisierung der Trajektorie in Aufgabe 1\n",
    "\n",
    "<span style=\"color:blue\">(TODO - Schreiben Sie Ihre Antwort hier hin!) </span>"
   ]
  },
  {
   "cell_type": "markdown",
   "metadata": {
    "pycharm": {
     "name": "#%% md\n"
    }
   },
   "source": [
    "Überlegen Sie sich eine Möglichkeit, um das Problem mit den verwaschenen Bildern zu lösen und implementieren Sie diese."
   ]
  },
  {
   "cell_type": "code",
   "execution_count": null,
   "metadata": {
    "pycharm": {
     "name": "#%%\n"
    }
   },
   "outputs": [],
   "source": []
  }
 ],
 "metadata": {
  "kernelspec": {
   "display_name": "Python 3.9.12 ('chi')",
   "language": "python",
   "name": "python3"
  },
  "language_info": {
   "codemirror_mode": {
    "name": "ipython",
    "version": 3
   },
   "file_extension": ".py",
   "mimetype": "text/x-python",
   "name": "python",
   "nbconvert_exporter": "python",
   "pygments_lexer": "ipython3",
   "version": "3.9.12"
  },
  "vscode": {
   "interpreter": {
    "hash": "9c8c30eef2882c704842cdfcd86d884fa745a9a6767516bdfa53b0ca1a3adbbd"
   }
  }
 },
 "nbformat": 4,
 "nbformat_minor": 1
}
