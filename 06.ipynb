{
 "cells": [
  {
   "cell_type": "markdown",
   "metadata": {
    "collapsed": true
   },
   "source": [
    "### Übung 06 - NDFT\n",
    "\n",
    "Die nicht-uniforme diskrete Fouriertransformation ist eine Möglichkeit zur Rekonstruktion von Daten mit beliebigen Trajektorien. Allerdings birgt sie große Probleme\n"
   ]
  },
  {
   "cell_type": "code",
   "execution_count": 1,
   "metadata": {
    "pycharm": {
     "name": "#%%\n"
    }
   },
   "outputs": [],
   "source": [
    "import numpy as np\n",
    "from matplotlib import pyplot as plt\n",
    "from matplotlib import colors"
   ]
  },
  {
   "cell_type": "code",
   "execution_count": 2,
   "metadata": {},
   "outputs": [],
   "source": [
    "plt.rcParams[\"figure.figsize\"] = (10,10)"
   ]
  },
  {
   "cell_type": "markdown",
   "metadata": {},
   "source": [
    "## Aufgabe 1 - Die Trajektorie\n",
    "\n",
    "Um nicht-uniforme k-Raum Daten zu rekonstruieren, benötigt man zunächst die Trajektorie. Hier werden wir eine radiale Trajektorie verwenden. Schreiben Sie eine Funktion, die als Eingabe eine Anzahl an Samples pro Spoke und eine Anzahl Spokes bekommt. Ein Spoke ist eine k-Raum-Linie. Diese Funktion soll dann die Trajektorie in Form von $k_x$- und $k_y$-Koordinaten zurückgeben. Die Spokes sollen immer um den Golden Angle gedreht werden.\n",
    "\n",
    "Bei 256 Samples pro Readout sollte z.B. der erste Spoke in 1-er Schritten von $k_x = -128$ bist $k_x = 127$ gehen. $k_y$ ist dabei 0."
   ]
  },
  {
   "cell_type": "code",
   "execution_count": null,
   "metadata": {
    "pycharm": {
     "name": "#%%\n"
    }
   },
   "outputs": [],
   "source": []
  },
  {
   "cell_type": "markdown",
   "metadata": {
    "pycharm": {
     "name": "#%% md\n"
    }
   },
   "source": [
    "Rufen Sie die von Ihnen geschriebene Funktion mit 10 Spokes und 256 Samples pro Spoke auf und visualisieren Sie die Trajektorie.\n",
    "Dafür können Sie zum Beispiel die Funktion `pyplot.plot` verwenden."
   ]
  },
  {
   "cell_type": "code",
   "execution_count": null,
   "metadata": {
    "pycharm": {
     "name": "#%%\n"
    }
   },
   "outputs": [],
   "source": []
  },
  {
   "cell_type": "markdown",
   "metadata": {},
   "source": [
    "Wie unterscheidet sich die Dichte der gesampleten Punkte im k-Raum gegenüber dem kartesischen Sampling? Was könnte das für Konsequenzen haben?\n",
    "\n",
    "<span style=\"color:blue\">(TODO - Schreiben Sie Ihre Antwort hier hin!) </span>"
   ]
  },
  {
   "cell_type": "markdown",
   "metadata": {},
   "source": [
    "## Aufgabe 2 - Die NDFT"
   ]
  },
  {
   "cell_type": "markdown",
   "metadata": {},
   "source": [
    "Laden Sie die Dateien `phantom_radial_32.npy`, `phantom_radial_64.npy`, `phantom_radial_128.npy` und `phantom_radial_256.npy` aus Stud.IP herunter. Platzieren Sie diese im selben Ordner, wie dieses Notebook und führen Sie dann die folgende Code-Zeile aus."
   ]
  },
  {
   "cell_type": "code",
   "execution_count": 2,
   "metadata": {},
   "outputs": [],
   "source": [
    "kspace32 = np.load('phantom_radial_32.npy')\n",
    "kspace64 = np.load('phantom_radial_64.npy')\n",
    "kspace128 = np.load('phantom_radial_128.npy')\n",
    "kspace256 = np.load('phantom_radial_256.npy')"
   ]
  },
  {
   "cell_type": "markdown",
   "metadata": {
    "pycharm": {
     "name": "#%% md\n"
    }
   },
   "source": [
    "Die eingelesenen Daten sind radial gesampled und mit dem Golden Angle gedreht. Visualisieren Sie zunächst den `kspace256` (als wäre es ein reguläres 2D-Bild) mit logarithmischer Skala."
   ]
  },
  {
   "cell_type": "code",
   "execution_count": null,
   "metadata": {
    "pycharm": {
     "name": "#%%\n"
    }
   },
   "outputs": [],
   "source": []
  },
  {
   "cell_type": "markdown",
   "metadata": {
    "pycharm": {
     "name": "#%% md\n"
    }
   },
   "source": [
    "Welche der beiden Dimensionen gibt die Spokes und welche die Readouts pro Spoke an? Begründen Sie Ihre Antwort.\n",
    "\n",
    "<span style=\"color:blue\">(TODO - Schreiben Sie Ihre Antwort hier hin!) </span>"
   ]
  },
  {
   "cell_type": "markdown",
   "metadata": {
    "pycharm": {
     "name": "#%% md\n"
    }
   },
   "source": [
    "Rekonstruieren Sie nun zunächst den `kspace32` mit der iNDFT und stellen Sie es dar. Es handelt sich hier um das gleiche Phantom, wie in den vorherigen Aufgaben. Die Bilder sind nur teilweise niedriger aufgelöst.\n",
    "Tipp: Sie müssen mithilfe der Funktion aus Aufgabe 1 erst einmal eine Trajektorie berechnen."
   ]
  },
  {
   "cell_type": "code",
   "execution_count": null,
   "metadata": {
    "pycharm": {
     "name": "#%%\n"
    }
   },
   "outputs": [],
   "source": []
  },
  {
   "cell_type": "markdown",
   "metadata": {
    "pycharm": {
     "name": "#%% md\n"
    }
   },
   "source": [
    "Schreiben Sie nun eine Funktion, die die iNDFT für beliebige Eingabegrößen berechnet, indem die k-Raum Daten und die Trajektorie übergeben wird. Die Berechnung sollte ohne for-Schleifen laufen, also nur mit numpy-Funktionen auskommen."
   ]
  },
  {
   "cell_type": "code",
   "execution_count": null,
   "metadata": {
    "pycharm": {
     "name": "#%%\n"
    }
   },
   "outputs": [],
   "source": []
  },
  {
   "cell_type": "markdown",
   "metadata": {
    "pycharm": {
     "name": "#%% md\n"
    }
   },
   "source": [
    "Wenden Sie nun Ihre Funktion nacheinander auf alle zu Anfang dieser Aufgabe eingelesenen k-Raum Daten an und stellen Sie das Ergebnis dar. Messen Sie dabei die Zeit, die die Rekonstruktion benötigt."
   ]
  },
  {
   "cell_type": "code",
   "execution_count": null,
   "metadata": {
    "pycharm": {
     "name": "#%%\n"
    }
   },
   "outputs": [],
   "source": []
  },
  {
   "cell_type": "markdown",
   "metadata": {
    "pycharm": {
     "name": "#%% md\n"
    }
   },
   "source": [
    "Wie skaliert die Laufzeit Ihrer Funktion in Abhängigkeit von der Eingabelänge (O-Notation)? Ist diese Art der Bildrekonstruktion praxistauglich?\n",
    "\n",
    "<span style=\"color:blue\">(TODO - Schreiben Sie Ihre Antwort hier hin!) </span>"
   ]
  },
  {
   "cell_type": "markdown",
   "metadata": {
    "pycharm": {
     "name": "#%% md\n"
    }
   },
   "source": [
    "Die rekonstruierten Bilder sollten recht verwaschen aussehen. Woran könnte das liegen?\n",
    "Tipp: Schauen Sie noch einmal auf die Visualisierung der Trajektorie in Aufgabe 1\n",
    "\n",
    "<span style=\"color:blue\">(TODO - Schreiben Sie Ihre Antwort hier hin!) </span>"
   ]
  },
  {
   "cell_type": "markdown",
   "metadata": {
    "pycharm": {
     "name": "#%% md\n"
    }
   },
   "source": [
    "Überlegen Sie sich eine Möglichkeit, um das Problem mit den verwaschenen Bildern zu lösen und implementieren Sie diese."
   ]
  },
  {
   "cell_type": "code",
   "execution_count": null,
   "metadata": {
    "pycharm": {
     "name": "#%%\n"
    }
   },
   "outputs": [],
   "source": []
  }
 ],
 "metadata": {
  "kernelspec": {
   "display_name": "Python 3 (ipykernel)",
   "language": "python",
   "name": "python3"
  },
  "language_info": {
   "codemirror_mode": {
    "name": "ipython",
    "version": 3
   },
   "file_extension": ".py",
   "mimetype": "text/x-python",
   "name": "python",
   "nbconvert_exporter": "python",
   "pygments_lexer": "ipython3",
   "version": "3.9.10"
  }
 },
 "nbformat": 4,
 "nbformat_minor": 1
}