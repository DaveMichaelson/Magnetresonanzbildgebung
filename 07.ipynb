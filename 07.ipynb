{
 "cells": [
  {
   "cell_type": "markdown",
   "metadata": {
    "collapsed": true
   },
   "source": [
    "### Übung 07 - NUFFT\n",
    "\n",
    "Die nicht-uniforme diskrete Fouriertransformation lässt sich nicht effizient genug implementieren, sodass sie für die Praxis untauglich ist. Stattdessen interpoliert man die nicht-uniform gesampleten Daten auf ein uniformes Gitter (\"Gridding\") und wendet dann die FFT an. Das wird \"Non-Uniform Fast Fourier Transform\" (NUFFT) genannt.\n"
   ]
  },
  {
   "cell_type": "code",
   "execution_count": 9,
   "metadata": {
    "pycharm": {
     "name": "#%%\n"
    }
   },
   "outputs": [],
   "source": [
    "import numpy as np\n",
    "import scipy\n",
    "from matplotlib import pyplot as plt\n",
    "from matplotlib import colors\n",
    "from helper import *"
   ]
  },
  {
   "cell_type": "code",
   "execution_count": 10,
   "metadata": {},
   "outputs": [],
   "source": [
    "plt.rcParams[\"figure.figsize\"] = (10,10)"
   ]
  },
  {
   "cell_type": "code",
   "execution_count": 11,
   "metadata": {
    "collapsed": false,
    "pycharm": {
     "name": "#%%\n"
    }
   },
   "outputs": [],
   "source": [
    "# Platzieren Sie die Datei \"phantom_radial_256.npy\" im gleichen Ordner, wie dieses Notebook\n",
    "radial_kspace = np.load(\"phantom_radial_256.npy\")\n",
    "# Kopieren Sie Ihre Funktion vom letzten Notebook, um die Trajektorie zu generieren oder exportieren Sie die Trajektorie alternativ aus dem letzten Notebook und laden sie hier rein (mit np.save und np.load)\n",
    "trajectory = compute_spokes(256, 256)"
   ]
  },
  {
   "cell_type": "markdown",
   "metadata": {},
   "source": [
    "## Aufgabe 1 - Nearest-Neighbor Gridding\n",
    "\n",
    "Das wohl simpelste Interpolationsverfahren ist, jedem Gitterpunkt einfach den Wert zuzuweisen, der am nächsten dran ist. Implementieren Sie dieses Verfahren. Lassen Sie sich den daraus resultierenden uniformen k-Raum anzeigen.\n",
    "Tipp: Sie können dafür die Funktion `scipy.interpolate.griddata` verwenden"
   ]
  },
  {
   "cell_type": "code",
   "execution_count": 19,
   "metadata": {
    "pycharm": {
     "name": "#%%\n"
    }
   },
   "outputs": [
    {
     "name": "stdout",
     "output_type": "stream",
     "text": [
      "(256, 256)\n",
      "(2, 256, 256)\n",
      "(65536,)\n",
      "(65536, 2)\n"
     ]
    },
    {
     "ename": "ValueError",
     "evalue": "different number of values and points",
     "output_type": "error",
     "traceback": [
      "\u001b[0;31m---------------------------------------------------------------------------\u001b[0m",
      "\u001b[0;31mValueError\u001b[0m                                Traceback (most recent call last)",
      "\u001b[1;32m/home/david/Dokumente/Studium/12_Semester/Magnetresonanzbildgebung/07.ipynb Cell 6'\u001b[0m in \u001b[0;36m<cell line: 8>\u001b[0;34m()\u001b[0m\n\u001b[1;32m      <a href='vscode-notebook-cell:/home/david/Dokumente/Studium/12_Semester/Magnetresonanzbildgebung/07.ipynb#ch0000005?line=5'>6</a>\u001b[0m \u001b[39mprint\u001b[39m(falt_kspace\u001b[39m.\u001b[39mshape)\n\u001b[1;32m      <a href='vscode-notebook-cell:/home/david/Dokumente/Studium/12_Semester/Magnetresonanzbildgebung/07.ipynb#ch0000005?line=6'>7</a>\u001b[0m \u001b[39mprint\u001b[39m(flat_traj\u001b[39m.\u001b[39mshape)\n\u001b[0;32m----> <a href='vscode-notebook-cell:/home/david/Dokumente/Studium/12_Semester/Magnetresonanzbildgebung/07.ipynb#ch0000005?line=7'>8</a>\u001b[0m inter_k_space \u001b[39m=\u001b[39m interpolate\u001b[39m.\u001b[39;49mgriddata(flat_traj, radial_kspace, np\u001b[39m.\u001b[39;49mmgrid[\u001b[39m-\u001b[39;49m\u001b[39m128\u001b[39;49m:\u001b[39m127\u001b[39;49m:\u001b[39m1\u001b[39;49m, \u001b[39m-\u001b[39;49m\u001b[39m128\u001b[39;49m:\u001b[39m127\u001b[39;49m:\u001b[39m1\u001b[39;49m], method\u001b[39m=\u001b[39;49m\u001b[39m'\u001b[39;49m\u001b[39mnearest\u001b[39;49m\u001b[39m'\u001b[39;49m)\n",
      "File \u001b[0;32m~/anaconda3/envs/chi/lib/python3.9/site-packages/scipy/interpolate/ndgriddata.py:257\u001b[0m, in \u001b[0;36mgriddata\u001b[0;34m(points, values, xi, method, fill_value, rescale)\u001b[0m\n\u001b[1;32m    255\u001b[0m     \u001b[39mreturn\u001b[39;00m ip(xi)\n\u001b[1;32m    256\u001b[0m \u001b[39melif\u001b[39;00m method \u001b[39m==\u001b[39m \u001b[39m'\u001b[39m\u001b[39mnearest\u001b[39m\u001b[39m'\u001b[39m:\n\u001b[0;32m--> 257\u001b[0m     ip \u001b[39m=\u001b[39m NearestNDInterpolator(points, values, rescale\u001b[39m=\u001b[39;49mrescale)\n\u001b[1;32m    258\u001b[0m     \u001b[39mreturn\u001b[39;00m ip(xi)\n\u001b[1;32m    259\u001b[0m \u001b[39melif\u001b[39;00m method \u001b[39m==\u001b[39m \u001b[39m'\u001b[39m\u001b[39mlinear\u001b[39m\u001b[39m'\u001b[39m:\n",
      "File \u001b[0;32m~/anaconda3/envs/chi/lib/python3.9/site-packages/scipy/interpolate/ndgriddata.py:87\u001b[0m, in \u001b[0;36mNearestNDInterpolator.__init__\u001b[0;34m(self, x, y, rescale, tree_options)\u001b[0m\n\u001b[1;32m     86\u001b[0m \u001b[39mdef\u001b[39;00m \u001b[39m__init__\u001b[39m(\u001b[39mself\u001b[39m, x, y, rescale\u001b[39m=\u001b[39m\u001b[39mFalse\u001b[39;00m, tree_options\u001b[39m=\u001b[39m\u001b[39mNone\u001b[39;00m):\n\u001b[0;32m---> 87\u001b[0m     NDInterpolatorBase\u001b[39m.\u001b[39;49m\u001b[39m__init__\u001b[39;49m(\u001b[39mself\u001b[39;49m, x, y, rescale\u001b[39m=\u001b[39;49mrescale,\n\u001b[1;32m     88\u001b[0m                                 need_contiguous\u001b[39m=\u001b[39;49m\u001b[39mFalse\u001b[39;49;00m,\n\u001b[1;32m     89\u001b[0m                                 need_values\u001b[39m=\u001b[39;49m\u001b[39mFalse\u001b[39;49;00m)\n\u001b[1;32m     90\u001b[0m     \u001b[39mif\u001b[39;00m tree_options \u001b[39mis\u001b[39;00m \u001b[39mNone\u001b[39;00m:\n\u001b[1;32m     91\u001b[0m         tree_options \u001b[39m=\u001b[39m \u001b[39mdict\u001b[39m()\n",
      "File \u001b[0;32minterpnd.pyx:78\u001b[0m, in \u001b[0;36mscipy.interpolate.interpnd.NDInterpolatorBase.__init__\u001b[0;34m()\u001b[0m\n",
      "File \u001b[0;32minterpnd.pyx:192\u001b[0m, in \u001b[0;36mscipy.interpolate.interpnd._check_init_shape\u001b[0;34m()\u001b[0m\n",
      "\u001b[0;31mValueError\u001b[0m: different number of values and points"
     ]
    }
   ],
   "source": [
    "from scipy import interpolate\n",
    "print(radial_kspace.shape)\n",
    "print(trajectory.shape)\n",
    "flat_traj = np.reshape(trajectory, (256 * 256, 2))\n",
    "falt_kspace = np.reshape(radial_kspace, 256 * 256)\n",
    "print(falt_kspace.shape)\n",
    "print(flat_traj.shape)\n",
    "inter_k_space = interpolate.griddata(flat_traj, radial_kspace, np.mgrid[-128:127:1, -128:127:1], method='nearest')"
   ]
  },
  {
   "cell_type": "markdown",
   "metadata": {
    "collapsed": false,
    "pycharm": {
     "name": "#%% md\n"
    }
   },
   "source": [
    "Rekonstruieren Sie nun wie gewohnt mit der ifft das Bild."
   ]
  },
  {
   "cell_type": "code",
   "execution_count": null,
   "metadata": {
    "collapsed": false,
    "pycharm": {
     "name": "#%%\n"
    }
   },
   "outputs": [],
   "source": []
  },
  {
   "cell_type": "markdown",
   "metadata": {
    "collapsed": false,
    "pycharm": {
     "name": "#%% md\n"
    }
   },
   "source": [
    "Wieso ist diese Art der Interpolation nicht besonders gut geeignet?\n",
    "\n",
    "<span style=\"color:blue\">(TODO - Schreiben Sie Ihre Antwort hier hin!) </span>\n"
   ]
  },
  {
   "cell_type": "markdown",
   "metadata": {},
   "source": [
    "## Aufgabe 2 - NUFFT"
   ]
  },
  {
   "cell_type": "markdown",
   "metadata": {},
   "source": [
    "Sie werden nun die NUFFT mit einen Kaiser-Bessel-Kernel implementieren. Der Parameter $\\beta$ soll wie folgt gewählt sein:"
   ]
  },
  {
   "cell_type": "code",
   "execution_count": null,
   "metadata": {},
   "outputs": [],
   "source": [
    "beta = np.pi * 3.2**0.5"
   ]
  },
  {
   "cell_type": "markdown",
   "metadata": {
    "collapsed": false,
    "pycharm": {
     "name": "#%% md\n"
    }
   },
   "source": [
    "Die Breite des Kernels soll 4 sein:"
   ]
  },
  {
   "cell_type": "code",
   "execution_count": null,
   "metadata": {
    "collapsed": false,
    "pycharm": {
     "name": "#%%\n"
    }
   },
   "outputs": [],
   "source": [
    "kernel_width = 4"
   ]
  },
  {
   "cell_type": "markdown",
   "metadata": {
    "pycharm": {
     "name": "#%% md\n"
    }
   },
   "source": [
    "Da die Berechnung des Kaiser-Bessel-Fensters für jeden Punkt sehr aufwendig ist, wird meist das Fenster \"vorgesamplet\". In der eigentlichen Berechnung wird dann einfach das Sample genommen, was am nächsten dran ist."
   ]
  },
  {
   "cell_type": "code",
   "execution_count": null,
   "metadata": {
    "pycharm": {
     "name": "#%%\n"
    }
   },
   "outputs": [],
   "source": [
    "kb = np.kaiser(1024*kernel_width, beta)"
   ]
  },
  {
   "cell_type": "markdown",
   "metadata": {
    "collapsed": false,
    "pycharm": {
     "name": "#%% md\n"
    }
   },
   "source": [
    "Da die Fensterfunktion symmetrisch ist, brauchen wir nur eine Hälfte. Außerdem muss die Funktion am Rand 0 sein"
   ]
  },
  {
   "cell_type": "code",
   "execution_count": null,
   "metadata": {
    "collapsed": false,
    "pycharm": {
     "name": "#%%\n"
    }
   },
   "outputs": [],
   "source": [
    "kb_half = kb[int(len(kb)/2):]\n",
    "kb_half[-1] = 0\n",
    "plt.plot(np.linspace(0, 0.5, len(kb_half))*kernel_width, kb_half)"
   ]
  },
  {
   "cell_type": "markdown",
   "metadata": {
    "pycharm": {
     "name": "#%% md\n"
    }
   },
   "source": [
    "Implementieren Sie nun die NUFFT mit dem Kaiser-Bessel-Kernel und visualisieren Sie das Ergebnis\n",
    "\n",
    "Tipp 1: Denken Sie an die iFFT nach dem Gridding\n",
    "Tipp 2: Nutzen Sie die gleiche Dichtekompensation für die k-Raum Daten wie im vorherigen Notebook. Ansonsten wird das Bild wieder verwaschen aussehen."
   ]
  },
  {
   "cell_type": "code",
   "execution_count": null,
   "metadata": {
    "collapsed": false,
    "pycharm": {
     "name": "#%%\n"
    }
   },
   "outputs": [],
   "source": []
  },
  {
   "cell_type": "markdown",
   "metadata": {
    "pycharm": {
     "name": "#%% md\n"
    }
   },
   "source": [
    "## Aufgabe 3 - Deapodisation"
   ]
  },
  {
   "cell_type": "markdown",
   "metadata": {
    "pycharm": {
     "name": "#%% md\n"
    }
   },
   "source": [
    "Wenden Sie nun eine Deapodisation an, um das rekonstruierte Bild zu verbessern\n",
    "\n",
    "Tipp 1: Die iFT des Kaiser-Bessel-Kernels finden Sie in den Folien\n",
    "Tipp 2: $\\frac{1}{I_0(\\beta)}$ ist nur ein konstanter Faktor und kann daher weggelassen werden\n",
    "Tipp 3: Der Wertebereich der Koordinaten im Bildraum ist nach wie vor [-0.5, 0.5]"
   ]
  },
  {
   "cell_type": "code",
   "execution_count": null,
   "metadata": {
    "pycharm": {
     "name": "#%%\n"
    }
   },
   "outputs": [],
   "source": []
  }
 ],
 "metadata": {
  "kernelspec": {
   "display_name": "Python 3.9.12 ('chi')",
   "language": "python",
   "name": "python3"
  },
  "language_info": {
   "codemirror_mode": {
    "name": "ipython",
    "version": 3
   },
   "file_extension": ".py",
   "mimetype": "text/x-python",
   "name": "python",
   "nbconvert_exporter": "python",
   "pygments_lexer": "ipython3",
   "version": "3.9.12"
  },
  "vscode": {
   "interpreter": {
    "hash": "9c8c30eef2882c704842cdfcd86d884fa745a9a6767516bdfa53b0ca1a3adbbd"
   }
  }
 },
 "nbformat": 4,
 "nbformat_minor": 1
}
