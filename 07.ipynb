{
 "cells": [
  {
   "cell_type": "markdown",
   "metadata": {
    "collapsed": true
   },
   "source": [
    "### Übung 07 - NUFFT\n",
    "\n",
    "Die nicht-uniforme diskrete Fouriertransformation lässt sich nicht effizient genug implementieren, sodass sie für die Praxis untauglich ist. Stattdessen interpoliert man die nicht-uniform gesampleten Daten auf ein uniformes Gitter (\"Gridding\") und wendet dann die FFT an. Das wird \"Non-Uniform Fast Fourier Transform\" (NUFFT) genannt.\n"
   ]
  },
  {
   "cell_type": "code",
   "execution_count": null,
   "metadata": {
    "pycharm": {
     "name": "#%%\n"
    }
   },
   "outputs": [],
   "source": [
    "import numpy as np\n",
    "import scipy\n",
    "from matplotlib import pyplot as plt\n",
    "from matplotlib import colors"
   ]
  },
  {
   "cell_type": "code",
   "execution_count": null,
   "metadata": {},
   "outputs": [],
   "source": [
    "plt.rcParams[\"figure.figsize\"] = (10,10)"
   ]
  },
  {
   "cell_type": "code",
   "execution_count": null,
   "outputs": [],
   "source": [
    "# Platzieren Sie die Datei \"phantom_radial_256.npy\" im gleichen Ordner, wie dieses Notebook\n",
    "radial_kspace = np.load(\"phantom_radial_256.npy\")\n",
    "# Kopieren Sie Ihre Funktion vom letzten Notebook, um die Trajektorie zu generieren oder exportieren Sie die Trajektorie alternativ aus dem letzten Notebook und laden sie hier rein (mit np.save und np.load)\n",
    "trajectory = np.load(\"\")"
   ],
   "metadata": {
    "collapsed": false,
    "pycharm": {
     "name": "#%%\n"
    }
   }
  },
  {
   "cell_type": "markdown",
   "metadata": {},
   "source": [
    "## Aufgabe 1 - Nearest-Neighbor Gridding\n",
    "\n",
    "Das wohl simpelste Interpolationsverfahren ist, jedem Gitterpunkt einfach den Wert zuzuweisen, der am nächsten dran ist. Implementieren Sie dieses Verfahren. Lassen Sie sich den daraus resultierenden uniformen k-Raum anzeigen.\n",
    "Tipp: Sie können dafür die Funktion `scipy.interpolate.griddata` verwenden"
   ]
  },
  {
   "cell_type": "code",
   "execution_count": null,
   "metadata": {
    "pycharm": {
     "name": "#%%\n"
    }
   },
   "outputs": [],
   "source": []
  },
  {
   "cell_type": "markdown",
   "source": [
    "Rekonstruieren Sie nun wie gewohnt mit der ifft das Bild."
   ],
   "metadata": {
    "collapsed": false,
    "pycharm": {
     "name": "#%% md\n"
    }
   }
  },
  {
   "cell_type": "code",
   "execution_count": null,
   "outputs": [],
   "source": [],
   "metadata": {
    "collapsed": false,
    "pycharm": {
     "name": "#%%\n"
    }
   }
  },
  {
   "cell_type": "markdown",
   "source": [
    "Wieso ist diese Art der Interpolation nicht besonders gut geeignet?\n",
    "\n",
    "<span style=\"color:blue\">(TODO - Schreiben Sie Ihre Antwort hier hin!) </span>\n"
   ],
   "metadata": {
    "collapsed": false,
    "pycharm": {
     "name": "#%% md\n"
    }
   }
  },
  {
   "cell_type": "markdown",
   "metadata": {},
   "source": [
    "## Aufgabe 2 - NUFFT"
   ]
  },
  {
   "cell_type": "markdown",
   "metadata": {},
   "source": [
    "Sie werden nun die NUFFT mit einen Kaiser-Bessel-Kernel implementieren. Der Parameter $\\beta$ soll wie folgt gewählt sein:"
   ]
  },
  {
   "cell_type": "code",
   "execution_count": null,
   "metadata": {},
   "outputs": [],
   "source": [
    "beta = np.pi * 3.2**0.5"
   ]
  },
  {
   "cell_type": "markdown",
   "source": [
    "Die Breite des Kernels soll 4 sein:"
   ],
   "metadata": {
    "collapsed": false,
    "pycharm": {
     "name": "#%% md\n"
    }
   }
  },
  {
   "cell_type": "code",
   "execution_count": null,
   "outputs": [],
   "source": [
    "kernel_width = 4"
   ],
   "metadata": {
    "collapsed": false,
    "pycharm": {
     "name": "#%%\n"
    }
   }
  },
  {
   "cell_type": "markdown",
   "metadata": {
    "pycharm": {
     "name": "#%% md\n"
    }
   },
   "source": [
    "Da die Berechnung des Kaiser-Bessel-Fensters für jeden Punkt sehr aufwendig ist, wird meist das Fenster \"vorgesamplet\". In der eigentlichen Berechnung wird dann einfach das Sample genommen, was am nächsten dran ist."
   ]
  },
  {
   "cell_type": "code",
   "execution_count": null,
   "metadata": {
    "pycharm": {
     "name": "#%%\n"
    }
   },
   "outputs": [],
   "source": [
    "kb = np.kaiser(1024*kernel_width, beta)"
   ]
  },
  {
   "cell_type": "markdown",
   "source": [
    "Da die Fensterfunktion symmetrisch ist, brauchen wir nur eine Hälfte. Außerdem muss die Funktion am Rand 0 sein"
   ],
   "metadata": {
    "collapsed": false,
    "pycharm": {
     "name": "#%% md\n"
    }
   }
  },
  {
   "cell_type": "code",
   "execution_count": null,
   "outputs": [],
   "source": [
    "kb_half = kb[int(len(kb)/2):]\n",
    "kb_half[-1] = 0\n",
    "plt.plot(np.linspace(0, 0.5, len(kb_half))*kernel_width, kb_half)"
   ],
   "metadata": {
    "collapsed": false,
    "pycharm": {
     "name": "#%%\n"
    }
   }
  },
  {
   "cell_type": "markdown",
   "metadata": {
    "pycharm": {
     "name": "#%% md\n"
    }
   },
   "source": [
    "Implementieren Sie nun die NUFFT mit dem Kaiser-Bessel-Kernel und visualisieren Sie das Ergebnis\n",
    "\n",
    "Tipp 1: Denken Sie an die iFFT nach dem Gridding\n",
    "Tipp 2: Nutzen Sie die gleiche Dichtekompensation für die k-Raum Daten wie im vorherigen Notebook. Ansonsten wird das Bild wieder verwaschen aussehen."
   ]
  },
  {
   "cell_type": "code",
   "execution_count": null,
   "outputs": [],
   "source": [],
   "metadata": {
    "collapsed": false,
    "pycharm": {
     "name": "#%%\n"
    }
   }
  },
  {
   "cell_type": "markdown",
   "metadata": {
    "pycharm": {
     "name": "#%% md\n"
    }
   },
   "source": [
    "## Aufgabe 3 - Deapodisation"
   ]
  },
  {
   "cell_type": "markdown",
   "metadata": {
    "pycharm": {
     "name": "#%% md\n"
    }
   },
   "source": [
    "Wenden Sie nun eine Deapodisation an, um das rekonstruierte Bild zu verbessern\n",
    "\n",
    "Tipp 1: Die iFT des Kaiser-Bessel-Kernels finden Sie in den Folien\n",
    "Tipp 2: $\\frac{1}{I_0(\\beta)}$ ist nur ein konstanter Faktor und kann daher weggelassen werden\n",
    "Tipp 3: Der Wertebereich der Koordinaten im Bildraum ist nach wie vor [-0.5, 0.5]"
   ]
  },
  {
   "cell_type": "code",
   "execution_count": null,
   "metadata": {
    "pycharm": {
     "name": "#%%\n"
    }
   },
   "outputs": [],
   "source": []
  }
 ],
 "metadata": {
  "kernelspec": {
   "display_name": "Python 3 (ipykernel)",
   "language": "python",
   "name": "python3"
  },
  "language_info": {
   "codemirror_mode": {
    "name": "ipython",
    "version": 3
   },
   "file_extension": ".py",
   "mimetype": "text/x-python",
   "name": "python",
   "nbconvert_exporter": "python",
   "pygments_lexer": "ipython3",
   "version": "3.9.10"
  }
 },
 "nbformat": 4,
 "nbformat_minor": 1
}