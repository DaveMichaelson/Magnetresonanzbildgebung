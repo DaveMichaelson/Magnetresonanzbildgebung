{
 "cells": [
  {
   "cell_type": "markdown",
   "id": "f2e9144d",
   "metadata": {},
   "source": [
    "# Übung 01 - Python Einführung"
   ]
  },
  {
   "cell_type": "markdown",
   "id": "2964d2ba",
   "metadata": {},
   "source": [
    "Python ist eine vielseitige Programmiersprache, die unter anderem ergänzt durch einige bekannte Bbliotheken (numpy, scipy, matplotlib) ein ebenso wertvolles wie niederschwelliges Werkzeug des wissenschaftlichen Arbeits geworden ist.\n",
    "\n",
    "Während die meisten von Ihnen vermutlich schon erste Erfahrungen mit Python gesammelt haben, soll diese Übung den anderen einen zügigen Einstieg in die Sprache und das damit verbundene wissenschatliche Arbeiten vermitteln."
   ]
  },
  {
   "cell_type": "markdown",
   "id": "bddd2578",
   "metadata": {},
   "source": [
    "In dieser Übung behandeln wir:\n",
    "* Python Grundlagen: Datentypen (Container, Listen, Dictionaries, Sets, Tupel), Funktionen, Klassen\n",
    "* Numpy: Arrays, Array-Indizierung, Datentypen, Berechnungen mit Arrays, Broadcasting\n",
    "* Matplotlib: das Plotten, Subplots, Bilder"
   ]
  },
  {
   "cell_type": "markdown",
   "id": "f4e2e621",
   "metadata": {},
   "source": [
    "## Aufgabenstellung"
   ]
  },
  {
   "cell_type": "markdown",
   "id": "4e21357a",
   "metadata": {},
   "source": [
    "Im Verlauf dieser Einführung gibt es Codebeispiele in denen Zeilen mit dem Kommentarzeichen `#` versehen sind.\n",
    "Diese Kommentare sind von Ihnen auszuformulieren. Nutzen Sie die Gelegenheit auch vermeintlich einfache Abschnitte gewissenhaft auszufüllen. Die Kommentare beziehen sich immer entweder auf die gleiche Zeile oder auf den folgenden Abschnitt.\n",
    "Wenn Sie können, beschreiben Sie gerne bevor Sie sich die Ausgabe des Abschnittes darunter angesehen haben, wie *genau* diese aussehen wird.\n",
    "Das gibt Ihnen die Möglichkeit ihren eigenen Wissensstand realistisch einschätzen zu können und ein Gefühl dafür zu erlangen, in welchen Kapiteln der externen Dokumentation Sie am meisten neues Erfahren werden."
   ]
  },
  {
   "cell_type": "markdown",
   "id": "cda0c793",
   "metadata": {},
   "source": [
    "## zu Python Versionen\n",
    "\n",
    "Wie in den Folien angekündigt, verwendet dieser Kurs Python 3.9.\n",
    "Sie können die verwendete Version in der Kommandozeile mit `python --version` anzeigen lassen.\n",
    "\n",
    "Anaconda wird derzeit mit Python 3.9 ausgeliefert, was Ihnen die Arbeit erleichtern sollte."
   ]
  },
  {
   "cell_type": "code",
   "execution_count": 30,
   "id": "d3e8b50c",
   "metadata": {},
   "outputs": [
    {
     "name": "stdout",
     "output_type": "stream",
     "text": [
      "Python 3.9.12\n"
     ]
    }
   ],
   "source": [
    "!python --version"
   ]
  },
  {
   "cell_type": "markdown",
   "id": "abe4bac5",
   "metadata": {},
   "source": [
    "## Python Grundlagen\n",
    "\n",
    "Python ist eine dynamisch typisierte Mehrparadigmen-Programmiersprache. Von Python-Code wird oft gesagt, er sei fast wie Pseudocode, da er es ermöglicht, sehr leistungsfähige Ideen in sehr wenigen Codezeilen auszudrücken und dabei sehr lesbar zu sein. Als Beispiel ist hier eine Implementierung des klassischen Quicksort-Algorithmus in Python zu sehen:"
   ]
  },
  {
   "cell_type": "code",
   "execution_count": 31,
   "id": "76c4f668",
   "metadata": {},
   "outputs": [
    {
     "name": "stdout",
     "output_type": "stream",
     "text": [
      "[1, 1, 2, 3, 6, 8, 10]\n"
     ]
    }
   ],
   "source": [
    "def quicksort(arr):\n",
    "    if len(arr) <= 1:\n",
    "        return arr\n",
    "    pivot = arr[len(arr) // 2]\n",
    "    left = [x for x in arr if x < pivot]\n",
    "    middle = [x for x in arr if x == pivot]\n",
    "    right = [x for x in arr if x > pivot]\n",
    "    return quicksort(left) + middle + quicksort(right)\n",
    "\n",
    "print(quicksort([3,6,8,10,1,2,1]))"
   ]
  },
  {
   "cell_type": "markdown",
   "id": "9d9183cd",
   "metadata": {},
   "source": [
    "### grundlegende Datentypen\n",
    "\n",
    "#### Zahlen\n",
    "\n",
    "Integer und Fließkommazahlen werden wie auch von anderen Programmiersprachen erwartet unterstützt:"
   ]
  },
  {
   "cell_type": "code",
   "execution_count": 32,
   "id": "c4d2c221",
   "metadata": {},
   "outputs": [
    {
     "name": "stdout",
     "output_type": "stream",
     "text": [
      "3 <class 'int'>\n"
     ]
    }
   ],
   "source": [
    "x = 3\n",
    "print(x, type(x))"
   ]
  },
  {
   "cell_type": "code",
   "execution_count": 33,
   "id": "195e100c",
   "metadata": {},
   "outputs": [
    {
     "name": "stdout",
     "output_type": "stream",
     "text": [
      "4\n",
      "2\n",
      "6\n",
      "9\n"
     ]
    }
   ],
   "source": [
    "print(x + 1)   # Addition der Operanden x und 1. Anschließend wird das Ergebnis \"4\" auf der Standardausgabe ausgegeben\n",
    "print(x - 1)   # Subtraktion der Operanden x und 1. Anschließend wird das Ergebnis \"2\" auf der Standardausgabe ausgegeben\n",
    "print(x * 2)   # Multiplikation der Operanden x und 1. Anschließend wird das Ergebnis \"6\" auf der Standardausgabe ausgegeben\n",
    "print(x ** 2)  # Berechnet die zweit Potenz von 3. Anschließend wird das Ergebnis \"6\" auf der Standardausgabe ausgegeben"
   ]
  },
  {
   "cell_type": "code",
   "execution_count": 34,
   "id": "1c543e64",
   "metadata": {},
   "outputs": [
    {
     "name": "stdout",
     "output_type": "stream",
     "text": [
      "4\n",
      "8\n"
     ]
    }
   ],
   "source": [
    "x += 1\n",
    "print(x)\n",
    "x *= 2\n",
    "print(x)"
   ]
  },
  {
   "cell_type": "code",
   "execution_count": 35,
   "id": "e53ddca2",
   "metadata": {},
   "outputs": [
    {
     "name": "stdout",
     "output_type": "stream",
     "text": [
      "<class 'float'>\n",
      "2.5 3.5 5.0 6.25\n"
     ]
    }
   ],
   "source": [
    "y = 2.5\n",
    "print(type(y))\n",
    "print(y, y + 1, y * 2, y ** 2)"
   ]
  },
  {
   "cell_type": "markdown",
   "id": "b6a992b5",
   "metadata": {},
   "source": [
    "Beachten sie, dass Python anders als andere Sprachen nicht über unäre In- und Dekrementoren (x++, x--) verfügt.\n",
    "\n",
    "Python verfügt jedoch über Datentypen für besonders große sowie komplexe Zahlen; Details dazu finden Sie in der entsprechende [Dokumentation](https://docs.python.org/3.9/library/stdtypes.html#numeric-types-int-float-long-complex)."
   ]
  },
  {
   "cell_type": "markdown",
   "id": "df480f58",
   "metadata": {},
   "source": [
    "#### boolsche Werte\n",
    "\n",
    "In Python sind zwar gängige Operatoren für boolsche Logik implementiert, werden aber durch englische Wörter statt durch Symbole (`&&`, `||`, etc.) ausgedrückt:"
   ]
  },
  {
   "cell_type": "code",
   "execution_count": 36,
   "id": "355b103a",
   "metadata": {},
   "outputs": [
    {
     "name": "stdout",
     "output_type": "stream",
     "text": [
      "<class 'bool'>\n"
     ]
    }
   ],
   "source": [
    "t, f = True, False\n",
    "print(type(t))"
   ]
  },
  {
   "cell_type": "markdown",
   "id": "e61bba35",
   "metadata": {},
   "source": [
    "Zu den Operatoren:"
   ]
  },
  {
   "cell_type": "code",
   "execution_count": 37,
   "id": "bee57eff",
   "metadata": {},
   "outputs": [
    {
     "name": "stdout",
     "output_type": "stream",
     "text": [
      "False\n",
      "True\n",
      "False\n",
      "True\n"
     ]
    }
   ],
   "source": [
    "print(t and f) # Verundung von t und f mit anschließender Ausgabe des Ergebnisses \"False\" auf der Standardausgabe\n",
    "print(t or f)  # Veroderung von t und f mit anschließender Ausgabe des Ergebnisses \"True\" auf der Standardausgabe\n",
    "print(not t)   # Negierung von t mit anschließender Ausgabe des Ergebnisses \"False\" auf der Standardausgabe\n",
    "print(t != f)  # Übeprüft ob t nicht gleich f ist mit anschließender Ausgabe des Ergebnisses \"True\" auf der Standardausgabe"
   ]
  },
  {
   "cell_type": "markdown",
   "id": "8b4cd36f",
   "metadata": {},
   "source": [
    "#### Strings"
   ]
  },
  {
   "cell_type": "code",
   "execution_count": 38,
   "id": "57222e69",
   "metadata": {},
   "outputs": [
    {
     "name": "stdout",
     "output_type": "stream",
     "text": [
      "hallo 5\n"
     ]
    }
   ],
   "source": [
    "hallo = 'hallo'   # Zweisung des Wertes 'hallo' zu der Variablen hallo\n",
    "welt = \"welt\"\n",
    "print(hallo, len(hallo))"
   ]
  },
  {
   "cell_type": "markdown",
   "id": "ed0caa42",
   "metadata": {},
   "source": [
    "String-Objekte stellen einige nützliche Methoden zur Verfügung, beispielsweise:"
   ]
  },
  {
   "cell_type": "code",
   "execution_count": 39,
   "id": "6349ba08",
   "metadata": {},
   "outputs": [
    {
     "name": "stdout",
     "output_type": "stream",
     "text": [
      "Hallo\n",
      "HALLO\n",
      "  hallo\n",
      " hallo \n",
      "ha(all)(all)o\n",
      "welt\n"
     ]
    }
   ],
   "source": [
    "s = \"hallo\"\n",
    "print(s.capitalize())  # Macht aus dem ersten Zeichen ein uppercase Zeichen\n",
    "print(s.upper())       # Macht aus allen Zeichen uppercase Zeichen\n",
    "print(s.rjust(7))      # Richtet einen String nach der gegebenen Länge nach rechts aus. Übrige Zeichen links vom String werden mit Spaces aufgefüllt\n",
    "print(s.center(7))     # Zentriert einen String nach der gegebenen Länge. Übrige Zeichen links und rechts vom String werden mit Spaces aufgefüllt\n",
    "print(s.replace('l', '(all)'))  # Gibt eine Kopie des Strings zurück in der alle Vorkommnisse des gegebenen Substrings mit den gegeben Strings ersetzt werden\n",
    "print('  welt '.strip())  # Gibt eine Kopie des Strings zurück in dem alle führenden und endenden Spaces entfernt wurden"
   ]
  },
  {
   "cell_type": "markdown",
   "id": "3d676e8e",
   "metadata": {},
   "source": [
    "Alle Methoden finden sich auch in der [Dokumentation](https://docs.python.org/3.9/library/stdtypes.html#string-methods)."
   ]
  },
  {
   "cell_type": "markdown",
   "id": "83df3ae0",
   "metadata": {},
   "source": [
    "### Container\n",
    "\n",
    "Python enthält verschiedene Container-Typen: Listen, Wörterbücher (Dictionaries), Sets und Tupel."
   ]
  },
  {
   "cell_type": "markdown",
   "id": "af1ba7a4",
   "metadata": {},
   "source": [
    "#### Listen\n",
    "\n",
    "Eine Liste ist das Python-Äquivalent eines Arrays, kann aber in seiner Größe verändert werden und Elemente unterschiedlicher Typen enthalten:"
   ]
  },
  {
   "cell_type": "code",
   "execution_count": 40,
   "id": "272ca461",
   "metadata": {},
   "outputs": [
    {
     "name": "stdout",
     "output_type": "stream",
     "text": [
      "[3, 1, 2] 2\n",
      "2\n"
     ]
    }
   ],
   "source": [
    "xs = [3, 1, 2]   # Der Variablen xs wird eine Liste mit den Elementen 3, 1 und 2 zugewiesen\n",
    "print(xs, xs[2])\n",
    "print(xs[-1])     # Das letzte Element der List xs wird auf der Standardausgabe ausgegeben"
   ]
  },
  {
   "cell_type": "code",
   "execution_count": 41,
   "id": "01a00476",
   "metadata": {},
   "outputs": [
    {
     "name": "stdout",
     "output_type": "stream",
     "text": [
      "[3, 1, 'foo']\n"
     ]
    }
   ],
   "source": [
    "xs[2] = 'foo'    # Der zweite Platz der Liste wird mit dem String 'foo' ersetzt\n",
    "print(xs)"
   ]
  },
  {
   "cell_type": "code",
   "execution_count": 42,
   "id": "ef0a2e9a",
   "metadata": {},
   "outputs": [
    {
     "name": "stdout",
     "output_type": "stream",
     "text": [
      "[3, 1, 'foo', 'bar']\n"
     ]
    }
   ],
   "source": [
    "xs.append('bar') # Der Liste wird am Ende der String 'bar' angehängt\n",
    "print(xs)  "
   ]
  },
  {
   "cell_type": "code",
   "execution_count": 43,
   "id": "db13d9e4",
   "metadata": {},
   "outputs": [
    {
     "name": "stdout",
     "output_type": "stream",
     "text": [
      "bar [3, 1, 'foo']\n"
     ]
    }
   ],
   "source": [
    "x = xs.pop()     # Das letzte Elemente der List wird entfernt und der Variablen x zugewiesen\n",
    "print(x, xs)"
   ]
  },
  {
   "cell_type": "markdown",
   "id": "99f74aa2",
   "metadata": {},
   "source": [
    "Wie gehabt finden sich weitere Details zu Listen in der entsprechenden [Dokumentation](https://docs.python.org/3.9/tutorial/datastructures.html#more-on-lists)."
   ]
  },
  {
   "cell_type": "markdown",
   "id": "b369d3da",
   "metadata": {},
   "source": [
    "#### Slicing (von Listen)\n",
    "\n",
    "Neben dem Zugriff auf einzelne Elemente von Listen gibt es in Python auch die Möglichkeit auf ganze Unterbereiche von Listen zuzugreifen, was \"Slicing\" genannt wird:\n"
   ]
  },
  {
   "cell_type": "code",
   "execution_count": 44,
   "id": "a13ce65c",
   "metadata": {},
   "outputs": [
    {
     "name": "stdout",
     "output_type": "stream",
     "text": [
      "[0, 1, 2, 3, 4]\n",
      "[2, 3]\n",
      "[2, 3, 4]\n",
      "[0, 1]\n",
      "[0, 1, 2, 3, 4]\n",
      "[0, 1, 2, 3]\n",
      "[0, 1, 8, 9, 4]\n"
     ]
    }
   ],
   "source": [
    "nums = list(range(5))    # Erzeugt eine List mit den Werten 0...4\n",
    "print(nums)         # Gibt die Liste auf der Standardausgabe aus: \"[0, 1, 2, 3, 4]\"\n",
    "print(nums[2:4])    # Gibt die Subliste von Index 2 bis 4 (exklusive) auf der Standardasgabe aus\n",
    "print(nums[2:])     # Gibt die Subliste von Index 2 bis zum Ende auf der Standardausgabe aus\n",
    "print(nums[:2])     # Gibt die Subliste von Anfang bis zum Index 2 (exklusive) auf der Standardausgabe aus\n",
    "print(nums[:])      # Gibt die gesamte Liste auf der Standardausgabe aus\n",
    "print(nums[:-1])    # Gibt die Subliste vom Anfang bis zum letzten Index (exklusive) auf der Standardausgabe aus\n",
    "nums[2:4] = [8, 9]  # Ersetzt die Sublist vom Index 2 bis 4 (exklusive) mit der Liste [8, 9]\n",
    "print(nums)         # Gibt \"[0, 1, 8, 9, 4]\" auf der Standardausgabe aus"
   ]
  },
  {
   "cell_type": "markdown",
   "id": "38364f61",
   "metadata": {},
   "source": [
    "#### Schleifen\n",
    "\n",
    "Sie können über die Elemte einer Liste wie folgt iterieren:"
   ]
  },
  {
   "cell_type": "code",
   "execution_count": 45,
   "id": "03162315",
   "metadata": {},
   "outputs": [
    {
     "name": "stdout",
     "output_type": "stream",
     "text": [
      "Katze\n",
      "Hund\n",
      "Affe\n"
     ]
    }
   ],
   "source": [
    "tiere = ['Katze', 'Hund', 'Affe']\n",
    "for tier in tiere:\n",
    "    print(tier)"
   ]
  },
  {
   "cell_type": "markdown",
   "id": "1662150e",
   "metadata": {},
   "source": [
    "Um auf den Index eines Elements in der Schleife zugreifen zu können, bietet sich die Funktion `enumerate` an:"
   ]
  },
  {
   "cell_type": "code",
   "execution_count": 46,
   "id": "31b94dc2",
   "metadata": {},
   "outputs": [
    {
     "name": "stdout",
     "output_type": "stream",
     "text": [
      "#1: Katze\n",
      "#2: Hund\n",
      "#3: Affe\n"
     ]
    }
   ],
   "source": [
    "tiere = ['Katze', 'Hund', 'Affe']\n",
    "for idx, tier in enumerate(tiere):\n",
    "    print('#{}: {}'.format(idx + 1, tier))"
   ]
  },
  {
   "cell_type": "markdown",
   "id": "b7aa9bdd",
   "metadata": {},
   "source": [
    "#### List Comprehension\n",
    "\n"
   ]
  },
  {
   "cell_type": "markdown",
   "id": "42ab0147",
   "metadata": {},
   "source": [
    "Beim Programmieren werden häufig die gleichen Operationen auf mehrere Werte angewendet. Ein einfaches Beispiel dafür ist der folgende Code, der Zahlen quadriert: "
   ]
  },
  {
   "cell_type": "code",
   "execution_count": 47,
   "id": "c18cbb90",
   "metadata": {},
   "outputs": [
    {
     "name": "stdout",
     "output_type": "stream",
     "text": [
      "[0, 1, 4, 9, 16]\n"
     ]
    }
   ],
   "source": [
    "nums = [0, 1, 2, 3, 4]\n",
    "squares = []\n",
    "for x in nums:\n",
    "    squares.append(x ** 2)\n",
    "print(squares)"
   ]
  },
  {
   "cell_type": "markdown",
   "id": "9f260a76",
   "metadata": {},
   "source": [
    "Mit der sogenannten \"List Comprehension\" kann man das obige Beispiel verkürzen:"
   ]
  },
  {
   "cell_type": "code",
   "execution_count": 48,
   "id": "bbe319d6",
   "metadata": {},
   "outputs": [
    {
     "name": "stdout",
     "output_type": "stream",
     "text": [
      "[0, 1, 4, 9, 16]\n"
     ]
    }
   ],
   "source": [
    "nums = [0, 1, 2, 3, 4]\n",
    "squares = [x ** 2 for x in nums]\n",
    "print(squares)"
   ]
  },
  {
   "cell_type": "markdown",
   "id": "5c486a92",
   "metadata": {},
   "source": [
    "Dieses sprachliche Feature von Python kann auch Bedingungen enthalten:"
   ]
  },
  {
   "cell_type": "code",
   "execution_count": 49,
   "id": "c5518755",
   "metadata": {},
   "outputs": [
    {
     "name": "stdout",
     "output_type": "stream",
     "text": [
      "[0, 4, 16]\n"
     ]
    }
   ],
   "source": [
    "nums = [0, 1, 2, 3, 4]\n",
    "even_squares = [x ** 2 for x in nums if x % 2 == 0]\n",
    "print(even_squares)"
   ]
  },
  {
   "cell_type": "markdown",
   "id": "924f2e68",
   "metadata": {},
   "source": [
    "#### Dictionaries"
   ]
  },
  {
   "cell_type": "markdown",
   "id": "a8c3c6b4",
   "metadata": {},
   "source": [
    "In Python gibt es den Typ des Dictionaries, der wie der Name vermuten lässt ähnlich wie in einem Wörterbuch einen Key-Value-Store darstellt.\n",
    "Vergleichbar sind Maps in Java, oder Objekte in Javascript."
   ]
  },
  {
   "cell_type": "code",
   "execution_count": 50,
   "id": "9eaed88f",
   "metadata": {},
   "outputs": [
    {
     "name": "stdout",
     "output_type": "stream",
     "text": [
      "cute\n",
      "True\n"
     ]
    }
   ],
   "source": [
    "d = {'cat': 'cute', 'dog': 'furry'} # Weißt der Variablen d ein Dictionary zu, mit den Schlüsseln 'cat und 'dog' und den dazugehörigen Werten 'cat'->'cute' und 'dog'->'furry'\n",
    "print(d['cat'])       # Gibt den Wert vom Schlüssel 'cat' auf der Standardausgabe aus, welcher 'cute' ist\n",
    "print('cat' in d)     # Stellt fest ob der Schlüssel 'cat' in d enthalten ist"
   ]
  },
  {
   "cell_type": "code",
   "execution_count": 51,
   "id": "005a9570",
   "metadata": {},
   "outputs": [
    {
     "name": "stdout",
     "output_type": "stream",
     "text": [
      "wet\n"
     ]
    }
   ],
   "source": [
    "d['fish'] = 'wet'    # Erstellt ein zusätzliches Schlüssel-Wert Paar \n",
    "print(d['fish'])     # Gibt den Wert von 'fish' auf der Standardausgabe aus"
   ]
  },
  {
   "cell_type": "code",
   "execution_count": 52,
   "id": "066b4e49",
   "metadata": {},
   "outputs": [
    {
     "ename": "KeyError",
     "evalue": "'monkey'",
     "output_type": "error",
     "traceback": [
      "\u001b[0;31m---------------------------------------------------------------------------\u001b[0m",
      "\u001b[0;31mKeyError\u001b[0m                                  Traceback (most recent call last)",
      "\u001b[1;32m/home/david/Dokumente/Studium/12_Semester/Magnetresonanzbildgebung/notebooks/01.ipynb Cell 49'\u001b[0m in \u001b[0;36m<cell line: 1>\u001b[0;34m()\u001b[0m\n\u001b[0;32m----> <a href='vscode-notebook-cell:/home/david/Dokumente/Studium/12_Semester/Magnetresonanzbildgebung/notebooks/01.ipynb#ch0000048?line=0'>1</a>\u001b[0m \u001b[39mprint\u001b[39m(d[\u001b[39m'\u001b[39;49m\u001b[39mmonkey\u001b[39;49m\u001b[39m'\u001b[39;49m])\n",
      "\u001b[0;31mKeyError\u001b[0m: 'monkey'"
     ]
    }
   ],
   "source": [
    "print(d['monkey'])  # Versucht den Wert von 'monkey' auszugeben was zu einem Fehler führt, da 'monkey' nicht in d ist"
   ]
  },
  {
   "cell_type": "markdown",
   "id": "69174df8",
   "metadata": {},
   "source": [
    "Einen solchen Fehler kann man umgehen, indem man einen Default-Wert angibt, der zurückgegeben werden soll, wenn es den angeforderten Schlüssel nicht gibt:"
   ]
  },
  {
   "cell_type": "code",
   "execution_count": null,
   "id": "c60a0187",
   "metadata": {},
   "outputs": [
    {
     "name": "stdout",
     "output_type": "stream",
     "text": [
      "N/A\n",
      "wet\n"
     ]
    }
   ],
   "source": [
    "print(d.get('monkey', 'N/A'))  # Gibt 'N/A' aus\n",
    "print(d.get('fish', 'N/A'))    # Gibt 'wet' aus"
   ]
  },
  {
   "cell_type": "code",
   "execution_count": null,
   "id": "d394b89e",
   "metadata": {},
   "outputs": [
    {
     "name": "stdout",
     "output_type": "stream",
     "text": [
      "N/A\n"
     ]
    }
   ],
   "source": [
    "del d['fish']        # Entfernt den Schlüssel 'fish' und den dazugehörigen Wert aus dem Dictionary d\n",
    "print(d.get('fish', 'N/A')) # Gibt 'N/A' aus"
   ]
  },
  {
   "cell_type": "markdown",
   "id": "7ad52eeb",
   "metadata": {},
   "source": [
    "Alles weitere wissenswerte findet sich in der [Dokumentation](https://docs.python.org/3.9/library/stdtypes.html#dict)."
   ]
  },
  {
   "cell_type": "markdown",
   "id": "26f7654b",
   "metadata": {},
   "source": [
    "Über die Werte in einem Dictionary kann man ausserdem ähnlich einer Liste iterieren:"
   ]
  },
  {
   "cell_type": "code",
   "execution_count": null,
   "id": "250d6958",
   "metadata": {},
   "outputs": [
    {
     "name": "stdout",
     "output_type": "stream",
     "text": [
      "A person has 2 legs\n",
      "A cat has 4 legs\n",
      "A spider has 8 legs\n"
     ]
    }
   ],
   "source": [
    "d = {'person': 2, 'cat': 4, 'spider': 8}\n",
    "for animal, legs in d.items():\n",
    "    print('A {} has {} legs'.format(animal, legs))"
   ]
  },
  {
   "cell_type": "markdown",
   "id": "6b88090c",
   "metadata": {},
   "source": [
    "Und ebenso ähnlich zur Liste gibt es \"Dictionary Comprehensions\", anders als bei der Liste werden diese genutzt um Dictionaries zu erstellen. Beispielsweise:"
   ]
  },
  {
   "cell_type": "code",
   "execution_count": null,
   "id": "c0c7f766",
   "metadata": {},
   "outputs": [
    {
     "name": "stdout",
     "output_type": "stream",
     "text": [
      "{0: 0, 2: 4, 4: 16}\n"
     ]
    }
   ],
   "source": [
    "nums = [0, 1, 2, 3, 4]\n",
    "even_num_to_square = {x: x ** 2 for x in nums if x % 2 == 0}\n",
    "print(even_num_to_square)"
   ]
  },
  {
   "cell_type": "markdown",
   "id": "d0139c23",
   "metadata": {},
   "source": [
    "#### Sets"
   ]
  },
  {
   "cell_type": "markdown",
   "id": "37419250",
   "metadata": {},
   "source": [
    "Ein \"Set\" ist eine ungeordnete Sammlung verschiedener Werte.\n",
    "Etwa so:"
   ]
  },
  {
   "cell_type": "code",
   "execution_count": null,
   "id": "713a0414",
   "metadata": {},
   "outputs": [
    {
     "name": "stdout",
     "output_type": "stream",
     "text": [
      "True\n",
      "False\n"
     ]
    }
   ],
   "source": [
    "animals = {'cat', 'dog'}\n",
    "print('cat' in animals)   # 'cat' ist im Set animals also 'True'\n",
    "print('fish' in animals)  # 'fish' ist nicht im Set animals also 'False'"
   ]
  },
  {
   "cell_type": "code",
   "execution_count": null,
   "id": "14469182",
   "metadata": {},
   "outputs": [
    {
     "name": "stdout",
     "output_type": "stream",
     "text": [
      "True\n",
      "3\n"
     ]
    }
   ],
   "source": [
    "animals.add('fish')      # Dem Set animals wird der String 'fish' hinzugefügt\n",
    "print('fish' in animals)\n",
    "print(len(animals))       # Gibt die Anzahl der Elemente im Set animals also \"3\" aus"
   ]
  },
  {
   "cell_type": "markdown",
   "id": "87bd6860",
   "metadata": {},
   "source": [
    "Die Werte eines Sets sind immer verschieden --> das doppelte Vorkommen eines Elements ist nicht möglich:"
   ]
  },
  {
   "cell_type": "code",
   "execution_count": null,
   "id": "0177745d",
   "metadata": {},
   "outputs": [
    {
     "name": "stdout",
     "output_type": "stream",
     "text": [
      "3\n",
      "2\n"
     ]
    }
   ],
   "source": [
    "animals.add('cat')       # Hier passiert nichts, da cat bereits in animals entahlten ist. len(animals) = 3\n",
    "print(len(animals))       \n",
    "animals.remove('cat')    # 'cat' wird aus dem Set animals entfernt. len(animals) = 2\n",
    "print(len(animals)) "
   ]
  },
  {
   "cell_type": "markdown",
   "id": "3f989fce",
   "metadata": {},
   "source": [
    "Auch über Sets kann man iterieren. Anders als Listen sind sie aber ungeordnet, sodass man keine Annahmen über die Reihenfolge treffen kann:"
   ]
  },
  {
   "cell_type": "code",
   "execution_count": null,
   "id": "9c6ac25a",
   "metadata": {},
   "outputs": [
    {
     "name": "stdout",
     "output_type": "stream",
     "text": [
      "#1: dog\n",
      "#2: cat\n",
      "#3: fish\n"
     ]
    }
   ],
   "source": [
    "animals = {'cat', 'dog', 'fish'}\n",
    "for idx, animal in enumerate(animals):\n",
    "    print('#{}: {}'.format(idx + 1, animal))"
   ]
  },
  {
   "cell_type": "markdown",
   "id": "6180c04b",
   "metadata": {},
   "source": [
    "Auch \"Set Comprehenision\" gibt es. Vergleichbar mit Listen und Dictionaries lassen Sich so Sets schnell und unkmpliziert erstellen:"
   ]
  },
  {
   "cell_type": "code",
   "execution_count": null,
   "id": "53b0c75f",
   "metadata": {},
   "outputs": [
    {
     "name": "stdout",
     "output_type": "stream",
     "text": [
      "{0, 1, 2, 3, 4, 5}\n"
     ]
    }
   ],
   "source": [
    "from math import sqrt\n",
    "print({int(sqrt(x)) for x in range(30)})"
   ]
  },
  {
   "cell_type": "markdown",
   "id": "3ff828d1",
   "metadata": {},
   "source": [
    "#### Tupel"
   ]
  },
  {
   "cell_type": "markdown",
   "id": "a8356a24",
   "metadata": {},
   "source": [
    "Ein Tupel ist eine unveränderliche geordnete Liste von Werten. Im Wesentlichen ähneln Tupel Listen, können aber im Gegensatz zu ihnen als Schlüssel in Dictionaries verwendet werden, weil sie unveränderlich sind. Ein einfaches Beispiel:"
   ]
  },
  {
   "cell_type": "code",
   "execution_count": null,
   "id": "81724a68",
   "metadata": {},
   "outputs": [
    {
     "name": "stdout",
     "output_type": "stream",
     "text": [
      "<class 'tuple'>\n",
      "5\n",
      "1\n"
     ]
    }
   ],
   "source": [
    "d = {(x, x + 1): x for x in range(10)}  # Erstellt ein Dictionary mit Einträgen der Art: (x, x+t): x\n",
    "t = (5, 6)       # Weißt t das Tupel (5,6) zu. Gibt 5 und 1 aus\n",
    "print(type(t))\n",
    "print(d[t])       \n",
    "print(d[(1, 2)])"
   ]
  },
  {
   "cell_type": "markdown",
   "id": "c42baf94",
   "metadata": {},
   "source": [
    "Tupel sind unveränderlich (immutable) und lösen einen TypeError aus, wenn man versucht entgegen der Einschränkung des Typs Werte zu ändern:"
   ]
  },
  {
   "cell_type": "code",
   "execution_count": null,
   "id": "2475baeb",
   "metadata": {},
   "outputs": [
    {
     "ename": "TypeError",
     "evalue": "'tuple' object does not support item assignment",
     "output_type": "error",
     "traceback": [
      "\u001b[0;31m---------------------------------------------------------------------------\u001b[0m",
      "\u001b[0;31mTypeError\u001b[0m                                 Traceback (most recent call last)",
      "Input \u001b[0;32mIn [20]\u001b[0m, in \u001b[0;36m<cell line: 1>\u001b[0;34m()\u001b[0m\n\u001b[0;32m----> 1\u001b[0m t[\u001b[38;5;241m0\u001b[39m] \u001b[38;5;241m=\u001b[39m \u001b[38;5;241m1\u001b[39m\n",
      "\u001b[0;31mTypeError\u001b[0m: 'tuple' object does not support item assignment"
     ]
    }
   ],
   "source": [
    "t[0] = 1"
   ]
  },
  {
   "cell_type": "markdown",
   "id": "9db99dca",
   "metadata": {},
   "source": [
    "#### Functions"
   ]
  },
  {
   "cell_type": "markdown",
   "id": "2d2dcf39",
   "metadata": {},
   "source": [
    "Funktionen definiert man in Python mit dem Token `def`. Zum Beispiel:"
   ]
  },
  {
   "cell_type": "code",
   "execution_count": null,
   "id": "5f51a182",
   "metadata": {},
   "outputs": [
    {
     "name": "stdout",
     "output_type": "stream",
     "text": [
      "negative\n",
      "zero\n",
      "positive\n"
     ]
    }
   ],
   "source": [
    "def sign(x):\n",
    "    if x > 0:\n",
    "        return 'positive'\n",
    "    elif x < 0:\n",
    "        return 'negative'\n",
    "    else:\n",
    "        return 'zero'\n",
    "\n",
    "for x in [-1, 0, 1]:\n",
    "    print(sign(x))"
   ]
  },
  {
   "cell_type": "markdown",
   "id": "7d66d026",
   "metadata": {},
   "source": [
    "Häufig werden Funktionen definiert, die optionale Argumente haben:"
   ]
  },
  {
   "cell_type": "code",
   "execution_count": null,
   "id": "c224ddba",
   "metadata": {},
   "outputs": [
    {
     "name": "stdout",
     "output_type": "stream",
     "text": [
      "Hello, Bob!\n",
      "HELLO, FRED\n"
     ]
    }
   ],
   "source": [
    "def hello(name, loud=False):\n",
    "    if loud:\n",
    "        print('HELLO, {}'.format(name.upper()))\n",
    "    else:\n",
    "        print('Hello, {}!'.format(name))\n",
    "\n",
    "hello('Bob')\n",
    "hello('Fred', loud=True)"
   ]
  },
  {
   "cell_type": "markdown",
   "id": "3f7ed398",
   "metadata": {},
   "source": [
    "#### Klassen"
   ]
  },
  {
   "cell_type": "markdown",
   "id": "0a4f787f",
   "metadata": {},
   "source": [
    "Die Syntax um in Python Klassen zu definieren ist sehr einfach:"
   ]
  },
  {
   "cell_type": "code",
   "execution_count": null,
   "id": "79c895ee",
   "metadata": {},
   "outputs": [
    {
     "name": "stdout",
     "output_type": "stream",
     "text": [
      "Hello, Fred!\n",
      "HELLO, FRED\n"
     ]
    }
   ],
   "source": [
    "class Greeter:\n",
    "\n",
    "    # Definiert den Konstruktor und initialisiert das Feld name\n",
    "    def __init__(self, name):\n",
    "        self.name = name\n",
    "\n",
    "    # Definiert eine Methode der Klasse Greeter\n",
    "    def greet(self, loud=False):\n",
    "        if loud:\n",
    "          print('HELLO, {}'.format(self.name.upper()))\n",
    "        else:\n",
    "          print('Hello, {}!'.format(self.name))\n",
    "\n",
    "g = Greeter('Fred')  # Initialisiert ein Objekt der Klasse Greeter\n",
    "g.greet()            # Ruft die Methode greeter auf\n",
    "g.greet(loud=True)   # Ruft die Methode greeter auf diesmal wird der Paramter loud auf True gesetzt"
   ]
  },
  {
   "cell_type": "markdown",
   "id": "0b028f83",
   "metadata": {},
   "source": [
    "Dabei sind die Defintionen, die ausserhalb von Klassen Funktionen einleiten in Klassen für das Anlegen von Methoden verantwortlich, verhalten sich damit aber im Endeffekt gleich."
   ]
  },
  {
   "cell_type": "markdown",
   "id": "9865bc69",
   "metadata": {},
   "source": [
    "## Numpy"
   ]
  },
  {
   "cell_type": "markdown",
   "id": "833caf31",
   "metadata": {},
   "source": [
    "Pythons Standardbibliothek verfügt über relativ viele Funktionen und Klassen, die ohne weitere Installation von Python-Paketen zur Verfügung stehen.\n",
    "Eine Erweiterung Pythons, die nicht in der Standardbibliothek enthalten ist, ist Numpy. Numpy ist 'die' Kernbibliothek, wenn es darum geht mit Python wissenschaftlich zu arbeiten. Sie stellt unter anderem ein hochperformantes mehrdimensionales Array-Objekt sowie Werkzeuge und Funktionen zum Bearbeiten dieser zur Verfügung.\n",
    "Wer (unter den ITlern) schonmal mit MATLAB gearbeitet hat, könnte diese [Anleitung](https://numpy.org/doc/stable/user/numpy-for-matlab-users.html) nützlich finden, um mit Numpy zu beginnen."
   ]
  },
  {
   "cell_type": "markdown",
   "id": "cdb32838",
   "metadata": {},
   "source": [
    "Um Numpy zu verwenden ist es notwendig, das package zu importieren, da es nicht in der Standardbibliothek enthalten ist:"
   ]
  },
  {
   "cell_type": "code",
   "execution_count": null,
   "id": "5ceb3081",
   "metadata": {},
   "outputs": [],
   "source": [
    "import numpy as np"
   ]
  },
  {
   "cell_type": "markdown",
   "id": "1aeab9a0",
   "metadata": {},
   "source": [
    "### Arrays"
   ]
  },
  {
   "cell_type": "markdown",
   "id": "3375e4c4",
   "metadata": {},
   "source": [
    "Ein Numpy-Array ist ein Raster von Werten gleichen Typs, und wird durch ein Tupel nichtnegativer Ganzzahlen indiziert. Die Anzahl der Dimensionen ist der Rang des Arrays; die Form des Arrays ist ein Tupel von Ganzzahlen, die die Größe des Arrays entlang jeder Dimension angeben."
   ]
  },
  {
   "cell_type": "markdown",
   "id": "0389cd64",
   "metadata": {},
   "source": [
    "Man kann Numpy-Arrays aus verschachtelten Python-Listen initialisieren und mit eckigen Klammern auf Elemente zugreifen:"
   ]
  },
  {
   "cell_type": "code",
   "execution_count": null,
   "id": "bddf5d35",
   "metadata": {},
   "outputs": [
    {
     "name": "stdout",
     "output_type": "stream",
     "text": [
      "<class 'numpy.ndarray'> (3,) 1 2 3\n",
      "[5 2 3]\n"
     ]
    }
   ],
   "source": [
    "a = np.array([1, 2, 3])  # Erstellt ein Array aus der gegebenen List mit den Elementen 1,2 und 3\n",
    "print(type(a), a.shape, a[0], a[1], a[2])\n",
    "a[0] = 5                 # Ersetzt das erste Element durch 5\n",
    "print(a)"
   ]
  },
  {
   "cell_type": "code",
   "execution_count": null,
   "id": "f2fb8f37",
   "metadata": {},
   "outputs": [
    {
     "name": "stdout",
     "output_type": "stream",
     "text": [
      "[[1 2 3]\n",
      " [4 5 6]]\n"
     ]
    }
   ],
   "source": [
    "b = np.array([[1,2,3],[4,5,6]])   # Erstellt ein zweidimensionales Array aus einer Liste von Listen\n",
    "print(b)"
   ]
  },
  {
   "cell_type": "code",
   "execution_count": null,
   "id": "764e53fc",
   "metadata": {},
   "outputs": [
    {
     "name": "stdout",
     "output_type": "stream",
     "text": [
      "(2, 3)\n",
      "1 2 4\n"
     ]
    }
   ],
   "source": [
    "print(b.shape)\n",
    "print(b[0, 0], b[0, 1], b[1, 0])"
   ]
  },
  {
   "cell_type": "markdown",
   "id": "55512d34",
   "metadata": {},
   "source": [
    "Numpy stellt ausserdem viele Funktionen zur Verfügung, die initialisierte Arrays erstellen."
   ]
  },
  {
   "cell_type": "code",
   "execution_count": null,
   "id": "8b95dea2",
   "metadata": {},
   "outputs": [
    {
     "name": "stdout",
     "output_type": "stream",
     "text": [
      "[[0. 0.]\n",
      " [0. 0.]]\n"
     ]
    }
   ],
   "source": [
    "a = np.zeros((2,2))  # Erstellt ein Array der Größe 2x2 welches mit nullen initialisiert wird\n",
    "print(a)"
   ]
  },
  {
   "cell_type": "code",
   "execution_count": null,
   "id": "ba7ecc5d",
   "metadata": {},
   "outputs": [
    {
     "name": "stdout",
     "output_type": "stream",
     "text": [
      "[[1. 1.]]\n"
     ]
    }
   ],
   "source": [
    "b = np.ones((1,2))   # Erstellt ein Array der Größe 1x2 welches mit einsen initialisiert wird\n",
    "print(b)"
   ]
  },
  {
   "cell_type": "code",
   "execution_count": null,
   "id": "bb0a4441",
   "metadata": {},
   "outputs": [
    {
     "name": "stdout",
     "output_type": "stream",
     "text": [
      "[[7 7]\n",
      " [7 7]]\n"
     ]
    }
   ],
   "source": [
    "c = np.full((2,2), 7) # Erstellt ein Array der Größe 1x2 welches mit 7en initialisiert wird\n",
    "print(c)"
   ]
  },
  {
   "cell_type": "code",
   "execution_count": null,
   "id": "09720b6b",
   "metadata": {},
   "outputs": [
    {
     "name": "stdout",
     "output_type": "stream",
     "text": [
      "[[1. 0.]\n",
      " [0. 1.]]\n"
     ]
    }
   ],
   "source": [
    "d = np.eye(2)        # Erstellt die Einheitsmatrix mit der Größe 2x2\n",
    "print(d)"
   ]
  },
  {
   "cell_type": "code",
   "execution_count": null,
   "id": "63233a67",
   "metadata": {},
   "outputs": [
    {
     "name": "stdout",
     "output_type": "stream",
     "text": [
      "[[0.30486502 0.89572741]\n",
      " [0.31688462 0.6465911 ]]\n"
     ]
    }
   ],
   "source": [
    "e = np.random.random((2,2)) # Erstellt ein Array der Größe 2x2 welches mit zufälligen Zahlen im Bereich [0, 1) initialisiert wird\n",
    "print(e)"
   ]
  },
  {
   "cell_type": "markdown",
   "id": "48d78a9a",
   "metadata": {},
   "source": [
    "### Array Indizierung"
   ]
  },
  {
   "cell_type": "markdown",
   "id": "cea48105",
   "metadata": {},
   "source": [
    "Numpy stellt verschiedene Wege zur Verfügung, Arrays zu indizieren."
   ]
  },
  {
   "cell_type": "markdown",
   "id": "40dfb3aa",
   "metadata": {},
   "source": [
    "Slicing: Ähnlich zu Pythons Listen können Numpy-Arrays In Slices geteilt werden. Da Arrays mehrdimensional sein können, muss für jede Dimension ein Slice angegeben werden:"
   ]
  },
  {
   "cell_type": "code",
   "execution_count": null,
   "id": "e2144289",
   "metadata": {},
   "outputs": [
    {
     "name": "stdout",
     "output_type": "stream",
     "text": [
      "[[2 3]\n",
      " [6 7]]\n"
     ]
    }
   ],
   "source": [
    "import numpy as np\n",
    "\n",
    "a = np.array([[1,2,3,4], [5,6,7,8], [9,10,11,12]]) # Erstellt eine 3x4 Matrix aus einer Liste von Listen\n",
    "\n",
    "b = a[:2, 1:3] # b wird aus der Matrix a erzeugt wobei nur die ersten beiden Zeilen und die zweite und die dritte Spalte benutzt werden\n",
    "print(b)"
   ]
  },
  {
   "cell_type": "markdown",
   "id": "c1d907be",
   "metadata": {},
   "source": [
    "Ein Slice eines Arrays is ein \"View\" eine Abbildung der selben Daten, Änderungen die man am Slice vornimmt, nimmt man also im originalen Array vor."
   ]
  },
  {
   "cell_type": "code",
   "execution_count": null,
   "id": "b7600e58",
   "metadata": {},
   "outputs": [
    {
     "name": "stdout",
     "output_type": "stream",
     "text": [
      "2\n",
      "77\n"
     ]
    }
   ],
   "source": [
    "print(a[0, 1])\n",
    "b[0, 0] = 77    # \n",
    "print(a[0, 1]) "
   ]
  },
  {
   "cell_type": "markdown",
   "id": "27d2f1d4",
   "metadata": {},
   "source": [
    "Man kann Integer- mit einer Slice-Indizierung kombinieren. Das führt unweigerlich zu einem Array niedrigeren Rangs als das Ursprungs-Array.\n",
    "Das unterscheidet sich deutlich von der Art und Weise, wie MATLAB Array-Slices behandelt:"
   ]
  },
  {
   "cell_type": "code",
   "execution_count": null,
   "id": "57b42233",
   "metadata": {},
   "outputs": [
    {
     "name": "stdout",
     "output_type": "stream",
     "text": [
      "[[ 1  2  3  4]\n",
      " [ 5  6  7  8]\n",
      " [ 9 10 11 12]]\n"
     ]
    }
   ],
   "source": [
    "a = np.array([[1,2,3,4], [5,6,7,8], [9,10,11,12]]) # Erstellt eine 3x4 Matrix aus einer Liste von Listen\n",
    "print(a)"
   ]
  },
  {
   "cell_type": "markdown",
   "id": "a5dcfd88",
   "metadata": {},
   "source": [
    "Es gib zwei Wege, wie man auf die Daten der mittleren Reihe des Arrays zugreifen kann. Die Kombinierung von Integer-Idizierung und Slices gibt ein Array veringerten Rangs zurück, während nur Slices zu nutzen ein Array des Ranges des Original-Arrays ergibt:"
   ]
  },
  {
   "cell_type": "code",
   "execution_count": null,
   "id": "e81f9e4b",
   "metadata": {},
   "outputs": [
    {
     "name": "stdout",
     "output_type": "stream",
     "text": [
      "[5 6 7 8] (4,)\n",
      "[[5 6 7 8]] (1, 4)\n",
      "[[5 6 7 8]] (1, 4)\n"
     ]
    }
   ],
   "source": [
    "row_r1 = a[1, :]    # Gibt die zweite Zeile zurück als Matrix mit Rang 1\n",
    "row_r2 = a[1:2, :]  # Gibt die zweite Zeile zurück als Matrix mit Rang 2\n",
    "row_r3 = a[[1], :]  # Gibt die zweite Zeile zurück als Matrix mit Rang 2\n",
    "print(row_r1, row_r1.shape)\n",
    "print(row_r2, row_r2.shape)\n",
    "print(row_r3, row_r3.shape)"
   ]
  },
  {
   "cell_type": "code",
   "execution_count": null,
   "id": "f884575e",
   "metadata": {},
   "outputs": [
    {
     "name": "stdout",
     "output_type": "stream",
     "text": [
      "[ 2  6 10] (3,)\n",
      "\n",
      "[[ 2]\n",
      " [ 6]\n",
      " [10]] (3, 1)\n"
     ]
    }
   ],
   "source": [
    "# Gibt die dritte Spalte wieder. Einmal als Array mit Rang 1 und das zweite mal als \"Spaltenvektor\"\n",
    "col_r1 = a[:, 1]\n",
    "col_r2 = a[:, 1:2]\n",
    "print(col_r1, col_r1.shape)\n",
    "print()\n",
    "print(col_r2, col_r2.shape)"
   ]
  },
  {
   "cell_type": "markdown",
   "id": "78873e17",
   "metadata": {},
   "source": [
    "Ganzzahlige Array-Indizierung: Wenn man in Numpy-Arrays mit Slicing indiziert, ist die resultierende Array-Ansicht immer ein Subarray des ursprünglichen Arrays. Im Gegensatz dazu erlaubt die Integer-Array-Indizierung die Konstruktion beliebiger Arrays unter Verwendung der Daten eines anderen Arrays. Hier ist ein Beispiel:"
   ]
  },
  {
   "cell_type": "code",
   "execution_count": null,
   "id": "96b285e4",
   "metadata": {},
   "outputs": [
    {
     "name": "stdout",
     "output_type": "stream",
     "text": [
      "[1 4 5]\n",
      "[1 4 5]\n"
     ]
    }
   ],
   "source": [
    "a = np.array([[1,2], [3, 4], [5, 6]])\n",
    "\n",
    "print(a[[0, 1, 2], [0, 1, 0]]) # Die erste List ist eine Liste mit Zeilenidices und die zweite Liste sind die Spaltenindices aus denen das neue Array konstruiert wird\n",
    "\n",
    "print(np.array([a[0, 0], a[1, 1], a[2, 0]])) # Gibt das selbe  aus wie die obige Zeile"
   ]
  },
  {
   "cell_type": "code",
   "execution_count": null,
   "id": "49998a0f",
   "metadata": {},
   "outputs": [
    {
     "name": "stdout",
     "output_type": "stream",
     "text": [
      "[2 2]\n",
      "[2 2]\n"
     ]
    }
   ],
   "source": [
    "print(a[[0, 0], [1, 1]]) # [2 2]\n",
    "\n",
    "print(np.array([a[0, 1], a[0, 1]])) # [2 2]"
   ]
  },
  {
   "cell_type": "markdown",
   "id": "d492d853",
   "metadata": {},
   "source": [
    "Ein praktischer Trick bei der Indizierung von Integer-Arrays besteht darin, ein Element aus jeder Zeile einer Matrix auszuwählen oder zu verändern."
   ]
  },
  {
   "cell_type": "code",
   "execution_count": null,
   "id": "16485380",
   "metadata": {},
   "outputs": [
    {
     "name": "stdout",
     "output_type": "stream",
     "text": [
      "[[ 1  2  3]\n",
      " [ 4  5  6]\n",
      " [ 7  8  9]\n",
      " [10 11 12]]\n"
     ]
    }
   ],
   "source": [
    "# Erzeugt ein Array Elemenet der Größe 4x3 aus einer Liste von Listen\n",
    "a = np.array([[1,2,3], [4,5,6], [7,8,9], [10, 11, 12]])\n",
    "print(a)"
   ]
  },
  {
   "cell_type": "code",
   "execution_count": null,
   "id": "4fc90576",
   "metadata": {},
   "outputs": [
    {
     "name": "stdout",
     "output_type": "stream",
     "text": [
      "[ 1  6  7 11]\n"
     ]
    }
   ],
   "source": [
    "b = np.array([0, 2, 0, 1]) # Erzeugt ein Array aus der gegebenen List und weist es b zu\n",
    "\n",
    "print(a[np.arange(4), b])  # Aus allen Zeilen wird jeweils das 1., 3., 1. und 2. Element zu einem neuen Array zusammengefügt"
   ]
  },
  {
   "cell_type": "code",
   "execution_count": null,
   "id": "91fe1325",
   "metadata": {},
   "outputs": [
    {
     "name": "stdout",
     "output_type": "stream",
     "text": [
      "[[11  2  3]\n",
      " [ 4  5 16]\n",
      " [17  8  9]\n",
      " [10 21 12]]\n"
     ]
    }
   ],
   "source": [
    "# Die entsprechenden Werte aus obiger Zeile werden alle um 10 inkrementiert\n",
    "a[np.arange(4), b] += 10\n",
    "print(a)"
   ]
  },
  {
   "cell_type": "markdown",
   "id": "8405e9e9",
   "metadata": {},
   "source": [
    "Boolesche Array-Indizierung: Mit der booleschen Array-Indizierung kann man beliebige Elemente aus einem Array heraussuchen. Häufig wird diese Art der Indizierung verwendet, um die Elemente eines Arrays auszuwählen, die eine Bedingung erfüllen. Hier ist ein Beispiel:"
   ]
  },
  {
   "cell_type": "code",
   "execution_count": null,
   "id": "597374f6",
   "metadata": {},
   "outputs": [
    {
     "name": "stdout",
     "output_type": "stream",
     "text": [
      "[[False False]\n",
      " [ True  True]\n",
      " [ True  True]]\n"
     ]
    }
   ],
   "source": [
    "import numpy as np\n",
    "\n",
    "a = np.array([[1,2], [3, 4], [5, 6]])\n",
    "\n",
    "bool_idx = (a > 2)  # Gibt ein Array der Größe des Arrays a zurück wobei alle Eintrage die größer 2 sind durch True und ansonsten False ersetzt sind\n",
    "        \n",
    "print(bool_idx)"
   ]
  },
  {
   "cell_type": "code",
   "execution_count": null,
   "id": "94a07de2",
   "metadata": {},
   "outputs": [
    {
     "name": "stdout",
     "output_type": "stream",
     "text": [
      "[3 4 5 6]\n",
      "[3 4 5 6]\n"
     ]
    }
   ],
   "source": [
    "print(a[bool_idx]) # Gibt alle Werte größer zwei zurück\n",
    "\n",
    "print(a[a > 2]) # Selbiges wie oben"
   ]
  },
  {
   "cell_type": "markdown",
   "id": "48b11acf",
   "metadata": {},
   "source": [
    "Der Kürze halber wurden viele Details über die Indizierung von Numpy-Arrays weggelassen; wenn Sie mehr wissen wollen, sollten Sie die Dokumentation zu Rate ziehen."
   ]
  },
  {
   "cell_type": "markdown",
   "id": "7624e880",
   "metadata": {},
   "source": [
    "### Datentypen"
   ]
  },
  {
   "cell_type": "markdown",
   "id": "f26a3b31",
   "metadata": {},
   "source": [
    "Jedes Numpy-Array ist ein Gitter aus Elementen desselben Typs. Numpy bietet eine große Anzahl von numerischen Datentypen, die zum Konstruieren von Arrays verwendet werden können. Numpy versucht, einen Datentyp zu erraten, wenn man ein Array erstellt,\n",
    "aber Funktionen, die Arrays konstruieren, enthalten normalerweise auch ein optionales Argument, um den Datentyp explizit anzugeben.\n",
    "Hier ist ein Beispiel:"
   ]
  },
  {
   "cell_type": "code",
   "execution_count": null,
   "id": "e2f20f63",
   "metadata": {},
   "outputs": [
    {
     "name": "stdout",
     "output_type": "stream",
     "text": [
      "int64 float64 int64\n"
     ]
    }
   ],
   "source": [
    "x = np.array([1, 2])  # Erstellt ein Array aus zwei Integern\n",
    "y = np.array([1.0, 2.0])  # Erstellt ein Array aus zwei Floating-Point Zahlen\n",
    "z = np.array([1, 2], dtype=np.int64)  # Erstellt ein Array und setzt den Typ der Elemente auf Integer\n",
    "\n",
    "print(x.dtype, y.dtype, z.dtype)"
   ]
  },
  {
   "cell_type": "markdown",
   "id": "68e01dec",
   "metadata": {},
   "source": [
    "Alles weitere über Datentypen lässt sich in der [Dokumentation](http://docs.scipy.org/doc/numpy/reference/arrays.dtypes.html) nachlesen."
   ]
  },
  {
   "cell_type": "markdown",
   "id": "47d34107",
   "metadata": {},
   "source": [
    "### Array-Mathematik"
   ]
  },
  {
   "cell_type": "markdown",
   "id": "c49d3622",
   "metadata": {},
   "source": [
    "Mathematische Grundfunktionen arbeiten elementweise auf Arrays und sind sowohl als Operatorüberladungen als auch als Funktionen im numpy-Modul verfügbar:"
   ]
  },
  {
   "cell_type": "code",
   "execution_count": null,
   "id": "2722b2cb",
   "metadata": {},
   "outputs": [
    {
     "name": "stdout",
     "output_type": "stream",
     "text": [
      "[[ 6.  8.]\n",
      " [10. 12.]]\n",
      "[[ 6.  8.]\n",
      " [10. 12.]]\n"
     ]
    }
   ],
   "source": [
    "x = np.array([[1,2],[3,4]], dtype=np.float64)\n",
    "y = np.array([[5,6],[7,8]], dtype=np.float64)\n",
    "\n",
    "# \n",
    "print(x + y)\n",
    "print(np.add(x, y))"
   ]
  },
  {
   "cell_type": "code",
   "execution_count": null,
   "id": "c74768b1",
   "metadata": {},
   "outputs": [
    {
     "name": "stdout",
     "output_type": "stream",
     "text": [
      "[[-4. -4.]\n",
      " [-4. -4.]]\n",
      "[[-4. -4.]\n",
      " [-4. -4.]]\n"
     ]
    }
   ],
   "source": [
    "# Subtrahiert jedes Elemente von x mit dem Element mit den selben Indices von y\n",
    "print(x - y)\n",
    "print(np.subtract(x, y))"
   ]
  },
  {
   "cell_type": "code",
   "execution_count": null,
   "id": "e72b4c69",
   "metadata": {},
   "outputs": [
    {
     "name": "stdout",
     "output_type": "stream",
     "text": [
      "[[ 5. 12.]\n",
      " [21. 32.]]\n",
      "[[ 5. 12.]\n",
      " [21. 32.]]\n"
     ]
    }
   ],
   "source": [
    "# Multipliziert jedes Elemente von x mit dem Element mit den selben Indices von y\n",
    "print(x * y)\n",
    "print(np.multiply(x, y))"
   ]
  },
  {
   "cell_type": "code",
   "execution_count": null,
   "id": "b5e99319",
   "metadata": {},
   "outputs": [
    {
     "name": "stdout",
     "output_type": "stream",
     "text": [
      "[[0.2        0.33333333]\n",
      " [0.42857143 0.5       ]]\n",
      "[[0.2        0.33333333]\n",
      " [0.42857143 0.5       ]]\n"
     ]
    }
   ],
   "source": [
    "# Dividiert jedes Elemente von x mit dem Element mit den selben Indices von y\n",
    "print(x / y)\n",
    "print(np.divide(x, y))"
   ]
  },
  {
   "cell_type": "code",
   "execution_count": null,
   "id": "90037806",
   "metadata": {},
   "outputs": [
    {
     "name": "stdout",
     "output_type": "stream",
     "text": [
      "[[1.         1.41421356]\n",
      " [1.73205081 2.        ]]\n"
     ]
    }
   ],
   "source": [
    "# Zieht die Wurzel von jedem Element von x\n",
    "print(np.sqrt(x))"
   ]
  },
  {
   "cell_type": "markdown",
   "id": "157daec2",
   "metadata": {},
   "source": [
    "**Achtung:** `*` ist im Gegensatz zu in MATLAB eine elementweise Multiplikation und keine Matrixmultiplikation. Stattdessen verwendet man die Funktion `dot` zur Berechnung innerer Produkte von Vektoren, zur Multiplikation eines Vektors mit einer Matrix und zur Multiplikation von Matrizen. `dot` ist sowohl als Funktion im Numpy-Modul als auch als Instanzierungsmethode von Array-Objekten verfügbar:"
   ]
  },
  {
   "cell_type": "code",
   "execution_count": null,
   "id": "d573bcd7",
   "metadata": {},
   "outputs": [
    {
     "name": "stdout",
     "output_type": "stream",
     "text": [
      "219\n",
      "219\n"
     ]
    }
   ],
   "source": [
    "x = np.array([[1,2],[3,4]])\n",
    "y = np.array([[5,6],[7,8]])\n",
    "\n",
    "v = np.array([9,10])\n",
    "w = np.array([11, 12])\n",
    "\n",
    "# Berechnet das Skalarprodukt aus v und w\n",
    "print(v.dot(w))\n",
    "print(np.dot(v, w))"
   ]
  },
  {
   "cell_type": "markdown",
   "id": "94060e53",
   "metadata": {},
   "source": [
    "Man kann auch den `@`-Operator verwenden, der dem Punktoperator von Numpy entspricht."
   ]
  },
  {
   "cell_type": "code",
   "execution_count": null,
   "id": "535b3b23",
   "metadata": {},
   "outputs": [
    {
     "name": "stdout",
     "output_type": "stream",
     "text": [
      "219\n"
     ]
    }
   ],
   "source": [
    "print(v @ w)"
   ]
  },
  {
   "cell_type": "code",
   "execution_count": null,
   "id": "385abe53",
   "metadata": {},
   "outputs": [
    {
     "name": "stdout",
     "output_type": "stream",
     "text": [
      "[29 67]\n",
      "[29 67]\n",
      "[29 67]\n"
     ]
    }
   ],
   "source": [
    "# FÜhrt die Matrixultiplikation durch für die Matrix x und den Vektor v\n",
    "print(x.dot(v))\n",
    "print(np.dot(x, v))\n",
    "print(x @ v)"
   ]
  },
  {
   "cell_type": "code",
   "execution_count": null,
   "id": "5c33a36d",
   "metadata": {},
   "outputs": [
    {
     "name": "stdout",
     "output_type": "stream",
     "text": [
      "[[19 22]\n",
      " [43 50]]\n",
      "[[19 22]\n",
      " [43 50]]\n",
      "[[19 22]\n",
      " [43 50]]\n"
     ]
    }
   ],
   "source": [
    "# Führt die Matrixmultiplikation für zwei Matrizen aus\n",
    "print(x.dot(y))\n",
    "print(np.dot(x, y))\n",
    "print(x @ y)"
   ]
  },
  {
   "cell_type": "markdown",
   "id": "bbe4dc0d",
   "metadata": {},
   "source": [
    "Numpy bietet viele nützliche Funktionen zur Durchführung von Berechnungen auf Arrays; eine der nützlichsten ist `sum`:"
   ]
  },
  {
   "cell_type": "code",
   "execution_count": null,
   "id": "2c195e8f",
   "metadata": {},
   "outputs": [
    {
     "name": "stdout",
     "output_type": "stream",
     "text": [
      "10\n",
      "[4 6]\n",
      "[3 7]\n"
     ]
    }
   ],
   "source": [
    "x = np.array([[1,2],[3,4]])\n",
    "\n",
    "print(np.sum(x))  # Liefert die Summe aller Elemente von x\n",
    "print(np.sum(x, axis=0))  # Liefert die Summe für jede Spalte\n",
    "print(np.sum(x, axis=1))  # Liefert die Summe für jede Zeile"
   ]
  },
  {
   "cell_type": "markdown",
   "id": "5b576358",
   "metadata": {},
   "source": [
    "Die vollständige Liste der von numpy bereitgestellten mathematischen Funktionen finden Sie in der [Dokumentation] (http://docs.scipy.org/doc/numpy/reference/routines.math.html).\n",
    "\n",
    "Neben der Berechnung mathematischer Funktionen mit Hilfe von Arrays müssen häufig Daten in Arrays umgestaltet oder anderweitig manipuliert werden. Das einfachste Beispiel für diese Art von Operation ist das Transponieren einer Matrix; um eine Matrix zu transponieren, verwenden Sie einfach das T-Attribut eines Array-Objekts:"
   ]
  },
  {
   "cell_type": "code",
   "execution_count": null,
   "id": "cd6d5891",
   "metadata": {},
   "outputs": [
    {
     "name": "stdout",
     "output_type": "stream",
     "text": [
      "[[1 2]\n",
      " [3 4]]\n",
      "transpose\n",
      " [[1 3]\n",
      " [2 4]]\n"
     ]
    }
   ],
   "source": [
    "print(x)\n",
    "print(\"transpose\\n\", x.T)"
   ]
  },
  {
   "cell_type": "code",
   "execution_count": null,
   "id": "27fe29ac",
   "metadata": {},
   "outputs": [
    {
     "name": "stdout",
     "output_type": "stream",
     "text": [
      "[[1 2 3]]\n",
      "transpose\n",
      " [[1]\n",
      " [2]\n",
      " [3]]\n"
     ]
    }
   ],
   "source": [
    "v = np.array([[1,2,3]])\n",
    "print(v )\n",
    "print(\"transpose\\n\", v.T)"
   ]
  },
  {
   "cell_type": "markdown",
   "id": "aa98b381",
   "metadata": {},
   "source": [
    "### Broadcasting"
   ]
  },
  {
   "cell_type": "markdown",
   "id": "f6f7b2ca",
   "metadata": {},
   "source": [
    "Broadcasting ist ein leistungsfähiger Mechanismus, der es Numpy ermöglicht, bei der Durchführung arithmetischer Operationen mit Arrays unterschiedlicher Form zu arbeiten. Häufig hat man ein kleineres und ein größeres Array und möchte das kleinere Array mehrfach verwenden, um eine Operation am größeren Array durchzuführen.\n",
    "\n",
    "Nimmt man zum Beispiel an, dass zu jeder Zeile einer Matrix ein konstanter Vektor hinzugefügt werden soll:"
   ]
  },
  {
   "cell_type": "code",
   "execution_count": null,
   "id": "33262312",
   "metadata": {},
   "outputs": [
    {
     "name": "stdout",
     "output_type": "stream",
     "text": [
      "[[ 2  2  4]\n",
      " [ 5  5  7]\n",
      " [ 8  8 10]\n",
      " [11 11 13]]\n",
      "[[ 2  2  4]\n",
      " [ 5  5  7]\n",
      " [ 8  8 10]\n",
      " [11 11 13]]\n"
     ]
    }
   ],
   "source": [
    "x = np.array([[1,2,3], [4,5,6], [7,8,9], [10, 11, 12]])\n",
    "v = np.array([1, 0, 1])\n",
    "y = np.empty_like(x)   # Liefert ein Array mit gleicher Größe wie x aber uninitialisierten Daten\n",
    "\n",
    "# Addiert auf jeden Zeilenvektor von x den Vektor v und schreibt das Ergebnis in y\n",
    "\n",
    "for i in range(4):\n",
    "    y[i, :] = x[i, :] + v\n",
    "\n",
    "print(y)\n",
    "print(x + v)"
   ]
  },
  {
   "cell_type": "markdown",
   "id": "9080ba53",
   "metadata": {},
   "source": [
    "Die Zeile `y = x + v` funktioniert, obwohl `x` die Form `(4, 3)` und `v` die Form `(3,)` hat; diese Zeile funktioniert, als ob `v` tatsächlich die Form `(4, 3)` hätte, wobei jede Zeile eine Kopie von `v` wäre und die Summe elementweise durchgeführt werden würde.\n",
    "\n",
    "Das Broadcasten/Übertragen von zwei Arrays folgt diesen Regeln:\n",
    "\n",
    "1. Wenn die Arrays nicht den gleichen Rang haben, wird der Form des Arrays mit dem niedrigeren Rang eine 1 vorangestellt, bis beide Formen die gleiche Länge haben.\n",
    "2. Die beiden Arrays gelten in einer Dimension als kompatibel, wenn sie in dieser Dimension die gleiche Größe haben, oder wenn eines der Arrays in dieser Dimension die Größe 1 hat.\n",
    "3. Die Arrays können zusammen übertragen werden, wenn sie in allen Dimensionen kompatibel sind.\n",
    "4. Nach dem Broadcasting verhält sich jedes Array so, als hätte es die Form, die dem elementweisen Maximum der Formen der beiden Eingabe-Arrays entspricht.\n",
    "5. In jeder Dimension, in der ein Array die Größe 1 und das andere Array eine Größe größer als 1 hat, verhält sich das erste Array so, als ob es entlang dieser Dimension kopiert würde.\n",
    "\n",
    "Wenn diese Erklärung zu kurz ist, findet sich eine ausführlicher Darstellung in der [Dokumentation] (http://docs.scipy.org/doc/numpy/user/basics.broadcasting.html). Auch diese [Erklärung] (http://wiki.scipy.org/EricsBroadcastingDoc) ist gut zu lesen.\n",
    "\n",
    "Funktionen, die Broadcasting unterstützen, werden als universelle Funktionen bezeichnet. Eine Liste aller universellen Funktionen findet sich in der [Dokumentation](http://docs.scipy.org/doc/numpy/reference/ufuncs.html#available-ufuncs).\n",
    "\n",
    "**Achtung**: Python ist bedingt durch seine Art als Skriptsprache verhältnismäßig langsam.\n",
    "Wann immer sich die Gelegenheit ergibt, universelle Funktionen oder generell die stark optimierten Funktionen aus numpy zu nutzen um eine Berechnung durchzuführen, ist die Benutzung der library-Funktionen eigenen Implementationen aus Geschwindigkeitsgründen vorzuziehen.\n",
    "\n",
    "Hier sind einige Anwendungen von Broadcasting:"
   ]
  },
  {
   "cell_type": "code",
   "execution_count": null,
   "id": "176afacf",
   "metadata": {},
   "outputs": [
    {
     "name": "stdout",
     "output_type": "stream",
     "text": [
      "[[ 4  5]\n",
      " [ 8 10]\n",
      " [12 15]]\n"
     ]
    }
   ],
   "source": [
    "v = np.array([1,2,3])\n",
    "w = np.array([4,5])\n",
    "\n",
    "print(np.reshape(v, (3, 1)) * w) # Mit reshape wird aus v ein Spaltenvektor und dann wird jede i-te Zeile aus w mit dem i-ten Element aus v multipliziert"
   ]
  },
  {
   "cell_type": "code",
   "execution_count": null,
   "id": "2bf9ce12",
   "metadata": {},
   "outputs": [
    {
     "name": "stdout",
     "output_type": "stream",
     "text": [
      "[[2 4 6]\n",
      " [5 7 9]]\n"
     ]
    }
   ],
   "source": [
    "x = np.array([[1,2,3], [4,5,6]])\n",
    "\n",
    "print(x + v) # Addiert jede Zeile von x mit v"
   ]
  },
  {
   "cell_type": "code",
   "execution_count": null,
   "id": "e2c5b42f",
   "metadata": {},
   "outputs": [
    {
     "name": "stdout",
     "output_type": "stream",
     "text": [
      "[[ 5  6  7]\n",
      " [ 9 10 11]]\n"
     ]
    }
   ],
   "source": [
    "print((x.T + w).T) # Transponiert x in eine 3x2 Matrix und addiert dann zu jeder Zeile w und transponiert das Ergebnis zurück in eine 2x3 Matrix"
   ]
  },
  {
   "cell_type": "code",
   "execution_count": null,
   "id": "efc73457",
   "metadata": {},
   "outputs": [
    {
     "name": "stdout",
     "output_type": "stream",
     "text": [
      "[[ 5  6  7]\n",
      " [ 9 10 11]]\n"
     ]
    }
   ],
   "source": [
    "print(x + np.reshape(w, (2, 1))) # Das selbe Ergebnis wie oben nur das w in einen Spaltenvektor transponiert wird um dann auf die Spalten von x addiert zu werden"
   ]
  },
  {
   "cell_type": "code",
   "execution_count": null,
   "id": "bce83fe1",
   "metadata": {},
   "outputs": [
    {
     "name": "stdout",
     "output_type": "stream",
     "text": [
      "[[ 2  4  6]\n",
      " [ 8 10 12]]\n"
     ]
    }
   ],
   "source": [
    "print(x * 2) # Multipliziert alle Elemente von x mit 2"
   ]
  },
  {
   "cell_type": "markdown",
   "id": "211efa54",
   "metadata": {},
   "source": [
    "Broadcasting macht den Code in der Regel übersichtlicher und schneller, daher sollte man sich bemühen, es zu verwenden, wo immer es möglich ist."
   ]
  },
  {
   "cell_type": "markdown",
   "id": "d5d31d97",
   "metadata": {},
   "source": [
    "Dieser kurze Überblick hat viele der wichtigen Dinge, die man über numpy wissen sollte angesprochen, ist aber bei weitem nicht vollständig. Weitere Informationen finden sie in der [numpy Referenz](http://docs.scipy.org/doc/numpy/reference/)."
   ]
  },
  {
   "cell_type": "markdown",
   "id": "af1019e5",
   "metadata": {},
   "source": [
    "## Matplotlib"
   ]
  },
  {
   "cell_type": "markdown",
   "id": "9f8b000e",
   "metadata": {},
   "source": [
    "Matplotlib ist eine Plotting-Bibliothek. In diesem Abschnitt wird eine kurze Einführung in das Modul matplotlib.pyplot gegeben, das ein Plottsystem ähnlich dem von MATLAB bietet."
   ]
  },
  {
   "cell_type": "code",
   "execution_count": 53,
   "id": "67bd6bfc",
   "metadata": {},
   "outputs": [],
   "source": [
    "import matplotlib.pyplot as plt"
   ]
  },
  {
   "cell_type": "markdown",
   "id": "0e863fd3",
   "metadata": {},
   "source": [
    "Durch die Ausführung dieses speziellen iPython-Befehls werden die Diagramme inline angezeigt:"
   ]
  },
  {
   "cell_type": "code",
   "execution_count": 54,
   "id": "4e9d37f5",
   "metadata": {},
   "outputs": [],
   "source": [
    "%matplotlib inline"
   ]
  },
  {
   "cell_type": "markdown",
   "id": "afc25eb2",
   "metadata": {},
   "source": [
    "### Plotting"
   ]
  },
  {
   "cell_type": "markdown",
   "id": "60e1171a",
   "metadata": {},
   "source": [
    "Die wichtigste Funktion in matplotlib ist `plot`, mit der 2D-Daten dargestellt werden können. Hier ist ein einfaches Beispiel:"
   ]
  },
  {
   "cell_type": "code",
   "execution_count": null,
   "id": "58c8d6b1",
   "metadata": {},
   "outputs": [
    {
     "data": {
      "text/plain": [
       "[<matplotlib.lines.Line2D at 0x7f618acf02e0>]"
      ]
     },
     "execution_count": 46,
     "metadata": {},
     "output_type": "execute_result"
    },
    {
     "data": {
      "image/png": "[encoded data removed]",
      "text/plain": [
       "<Figure size 432x288 with 1 Axes>"
      ]
     },
     "metadata": {
      "needs_background": "light"
     },
     "output_type": "display_data"
    }
   ],
   "source": [
    "# Berechnet die Werte von sin(x) für 0 <= x <= 3pi mit Schrittweite von 0.1\n",
    "x = np.arange(0, 3 * np.pi, 0.1)\n",
    "y = np.sin(x)\n",
    "\n",
    "# Visualisiert die zuvor berechnetet Sinusfunktion\n",
    "plt.plot(x, y)"
   ]
  },
  {
   "cell_type": "markdown",
   "id": "47f091d2",
   "metadata": {},
   "source": [
    "Mit ein wenig zusätzlicher Arbeit können problemlos mehrere Linien auf einmal gezeichnet werden und ein Titel, eine Legende und Achsenbeschriftungen hinzufügt werden:"
   ]
  },
  {
   "cell_type": "code",
   "execution_count": null,
   "id": "6779c6f5",
   "metadata": {},
   "outputs": [
    {
     "data": {
      "text/plain": [
       "<matplotlib.legend.Legend at 0x7f618aa525c0>"
      ]
     },
     "execution_count": 50,
     "metadata": {},
     "output_type": "execute_result"
    },
    {
     "data": {
      "image/png": "[encoded data removed]",
      "text/plain": [
       "<Figure size 432x288 with 1 Axes>"
      ]
     },
     "metadata": {
      "needs_background": "light"
     },
     "output_type": "display_data"
    }
   ],
   "source": [
    "y_sin = np.sin(x)\n",
    "y_cos = np.cos(x)\n",
    "\n",
    "# Visualisiert beide Funktionen in einer Grafik. Fügt eine Beschreibung für x und y-Achse, einen Titel und eine Legende die beschreibt werlche Kurve zu welcher Funktion gehöt hinzu\n",
    "plt.plot(x, y_sin)\n",
    "plt.plot(x, y_cos)\n",
    "plt.xlabel('x-Achsen Beschriftung')\n",
    "plt.ylabel('y-Achsen Beschriftung')\n",
    "plt.title('Sinus and Kosinus')\n",
    "plt.legend(['Sinus', 'Kosinus'])"
   ]
  },
  {
   "cell_type": "markdown",
   "id": "96f436fb",
   "metadata": {},
   "source": [
    "### Subplots"
   ]
  },
  {
   "cell_type": "markdown",
   "id": "10970150",
   "metadata": {},
   "source": [
    "Mit der Subplot-Funktion kann man verschiedene Dinge in ein und derselben Abbildung darstellen. Hier ist ein Beispiel:"
   ]
  },
  {
   "cell_type": "code",
   "execution_count": null,
   "id": "cd27e431",
   "metadata": {},
   "outputs": [
    {
     "data": {
      "image/png": "[encoded data removed]",
      "text/plain": [
       "<Figure size 432x288 with 2 Axes>"
      ]
     },
     "metadata": {
      "needs_background": "light"
     },
     "output_type": "display_data"
    }
   ],
   "source": [
    "# Berechnet die Werte der Funktionen Sinus und Cosinus\n",
    "x = np.arange(0, 3 * np.pi, 0.1)\n",
    "y_sin = np.sin(x)\n",
    "y_cos = np.cos(x)\n",
    "\n",
    "# Wählt aus einem Grid mit zwei Zeilen und einer Spalte die erste Zelle aus\n",
    "plt.subplot(2, 1, 1)\n",
    "\n",
    "# Visualisiert die Sinusfunktion in der ersten Zelle\n",
    "plt.plot(x, y_sin)\n",
    "plt.title('Sinus')\n",
    "\n",
    "# Wählt aus einem Grid mit zwei Zeilen und einer Spalte die zweite Zelle aus und visualisiert darin die Kosinusfunktion\n",
    "plt.subplot(2, 1, 2)\n",
    "plt.plot(x, y_cos)\n",
    "plt.title('Kosinus')\n",
    "\n",
    "# Zeigt die zuvor erstellte Grafik dem Benutzer\n",
    "plt.show()"
   ]
  }
 ],
 "metadata": {
  "kernelspec": {
   "display_name": "Python 3 (ipykernel)",
   "language": "python",
   "name": "python3"
  },
  "language_info": {
   "codemirror_mode": {
    "name": "ipython",
    "version": 3
   },
   "file_extension": ".py",
   "mimetype": "text/x-python",
   "name": "python",
   "nbconvert_exporter": "python",
   "pygments_lexer": "ipython3",
   "version": "3.9.12"
  }
 },
 "nbformat": 4,
 "nbformat_minor": 5
}
