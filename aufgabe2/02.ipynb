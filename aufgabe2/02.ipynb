{
 "cells": [
  {
   "cell_type": "markdown",
   "metadata": {
    "collapsed": true
   },
   "source": [
    "# Übung 02 - einfache Rekonstruktion"
   ]
  },
  {
   "cell_type": "code",
   "execution_count": 1,
   "metadata": {},
   "outputs": [],
   "source": [
    "import numpy as np\n",
    "from matplotlib import pyplot as plt\n",
    "from matplotlib import colors"
   ]
  },
  {
   "cell_type": "code",
   "execution_count": 2,
   "metadata": {
    "pycharm": {
     "name": "#%%\n"
    }
   },
   "outputs": [],
   "source": [
    "# Laden Sie die Datei \"phantom_256x256.npy\" aus Stud.IP herunter und platzieren Sie diese im gleichen Ordner, wie das Notebook. Dann können Sie diese Code-Zeile ausführen\n",
    "plt.rcParams[\"figure.figsize\"] = (20,10)\n",
    "kspace = np.load('phantom_256x256.npy')"
   ]
  },
  {
   "cell_type": "markdown",
   "metadata": {},
   "source": [
    "## Hinweis\n",
    "\n",
    "In einigen Aufgaben wählen Sie selbsständig Werte, um Funktionen aufzurufen. Sollten Sie nach Abschluss der Aufgaben noch Zeit haben, nutzen Sie die Gelegenheit und probieren Sie die Werte interaktiv zu setzen, um zum Beispiel mit Schiebereglern ein besseres Verständnis für Auswirkungen und Nebeneffekte von verschiedenen Eingabewerten zu erhalten.\n",
    "\n",
    "[ipywidgets](https://ipywidgets.readthedocs.io/en/latest/examples/Widget%20List.html#Numeric-widgets)"
   ]
  },
  {
   "cell_type": "markdown",
   "metadata": {},
   "source": [
    "## Aufgabe 1\n",
    "\n",
    "Visualisieren Sie den K-Raum (wird in der vorherigen Code-Zeile geladen). Da es sich um komplexe Daten handelt, visualisieren Sie den Betrag und die Phase nebeneinander (durch die Verwendung von subplots). Verwenden Sie eine logarithmische Skala."
   ]
  },
  {
   "cell_type": "code",
   "execution_count": 21,
   "metadata": {
    "pycharm": {
     "name": "#%%\n"
    }
   },
   "outputs": [
    {
     "name": "stdout",
     "output_type": "stream",
     "text": [
      "[  0   1   2   3   4   5   6   7   8   9  10  11  12  13  14  15  16  17\n",
      "  18  19  20  21  22  23  24  25  26  27  28  29  30  31  32  33  34  35\n",
      "  36  37  38  39  40  41  42  43  44  45  46  47  48  49  50  51  52  53\n",
      "  54  55  56  57  58  59  60  61  62  63  64  65  66  67  68  69  70  71\n",
      "  72  73  74  75  76  77  78  79  80  81  82  83  84  85  86  87  88  89\n",
      "  90  91  92  93  94  95  96  97  98  99 100 101 102 103 104 105 106 107\n",
      " 108 109 110 111 112 113 114 115 116 117 118 119 120 121 122 123 124 125\n",
      " 126 127 128 129 130 131 132 133 134 135 136 137 138 139 140 141 142 143\n",
      " 144 145 146 147 148 149 150 151 152 153 154 155 156 157 158 159 160 161\n",
      " 162 163 164 165 166 167 168 169 170 171 172 173 174 175 176 177 178 179\n",
      " 180 181 182 183 184 185 186 187 188 189 190 191 192 193 194 195 196 197\n",
      " 198 199 200 201 202 203 204 205 206 207 208 209 210 211 212 213 214 215\n",
      " 216 217 218 219 220 221 222 223 224 225 226 227 228 229 230 231 232 233\n",
      " 234 235 236 237 238 239 240 241 242 243 244 245 246 247 248 249 250 251\n",
      " 252 253 254 255]\n"
     ]
    },
    {
     "data": {
      "image/png": "[encoded data removed]",
      "text/plain": [
       "<Figure size 1440x720 with 4 Axes>"
      ]
     },
     "metadata": {
      "needs_background": "light"
     },
     "output_type": "display_data"
    }
   ],
   "source": [
    "# K-Raum visualisieren\n",
    "angle_kspace  = np.angle(kspace)\n",
    "abs_kspace = np.abs(kspace)\n",
    "x = np.arange(256)\n",
    "\n",
    "# Plotting(\n",
    "fig, axes = plt.subplots(2, 2)"
   ]
  },
  {
   "cell_type": "markdown",
   "metadata": {
    "collapsed": false,
    "pycharm": {
     "name": "#%% md\n"
    }
   },
   "source": [
    "Wo befindet sich das Maximum des K-Raums und warum?\n",
    "\n",
    "<span style=\"color:blue\">(TODO - Schreiben Sie Ihre Antwort hier hin!) </span>\n",
    "\n",
    "(optional) Der k-Raum weist eine bestimmte Symmetrie auf. Erkennen Sie diese?\n"
   ]
  },
  {
   "cell_type": "markdown",
   "metadata": {},
   "source": [
    "## Aufgabe 2\n",
    "\n",
    "Rekonstruieren Sie das Bild und stellen Sie es dar. Hilfreiche Funktionen für diese und folgende Aufgaben finden Sie in dem Modul [numpy.fft](https://numpy.org/doc/1.22/reference/routines.fft.html?highlight=numpy%20fft#module-numpy.fft). Wenn es nicht explizit anders in der Aufgabe steht, soll immer das Betrags-Bild visualisiert werden.\n"
   ]
  },
  {
   "cell_type": "code",
   "execution_count": 7,
   "metadata": {},
   "outputs": [],
   "source": [
    "# Reko durch ifft\n"
   ]
  },
  {
   "cell_type": "markdown",
   "metadata": {},
   "source": [
    "Beschreiben Sie, was man auf dem Bild sieht und stellen sie Vermutungen auf, warum die Abbildung so aussieht.\n",
    "\n",
    "<span style=\"color:blue\">(TODO - Schreiben Sie Ihre Antwort hier hin!) </span>\n"
   ]
  },
  {
   "cell_type": "markdown",
   "metadata": {},
   "source": [
    "## Aufgabe 3\n",
    "\n",
    "Korrigieren Sie Ihre Bildrekonstruktion so, dass das richtige Bild zu sehen ist."
   ]
  },
  {
   "cell_type": "code",
   "execution_count": 8,
   "metadata": {
    "pycharm": {
     "name": "#%%\n"
    }
   },
   "outputs": [],
   "source": [
    "# Reko durch ifft\n"
   ]
  },
  {
   "cell_type": "markdown",
   "metadata": {
    "pycharm": {
     "name": "#%% md\n"
    }
   },
   "source": [
    "##  Aufgabe 4\n",
    "Verwenden Sie jetzt statt der ifft die fft-Funktionen der Library und vergleichen Sie das Betrags- und Phasenbild der beiden Verfahren miteinander.Nutzen Sie Subplots um die Ergebnisse geeignet darzustellen."
   ]
  },
  {
   "cell_type": "code",
   "execution_count": 9,
   "metadata": {},
   "outputs": [],
   "source": [
    "# Reko durch fft (Betragsbilder)\n"
   ]
  },
  {
   "cell_type": "code",
   "execution_count": 10,
   "metadata": {},
   "outputs": [],
   "source": [
    "# Reko durch fft (Phasenbilder)\n"
   ]
  },
  {
   "cell_type": "markdown",
   "metadata": {},
   "source": [
    "Worin unterscheiden sich die Bilder?\n",
    "<span style=\"color:blue\">(TODO - Schreiben Sie Ihre Antwort hier hin!) </span>"
   ]
  },
  {
   "cell_type": "markdown",
   "metadata": {},
   "source": [
    "## Aufgabe 5\n",
    "\n",
    "Setzen Sie jetzt die Mitte des k-Raums auf 0 (suchen sie sich einen angemessenen Radius aus)\n",
    "und rekonstruieren Sie dann den manipulierten k-Raum. Probieren Sie das Ganze für verschiedene Radien aus.\n"
   ]
  },
  {
   "cell_type": "code",
   "execution_count": 10,
   "metadata": {},
   "outputs": [],
   "source": []
  },
  {
   "cell_type": "markdown",
   "metadata": {},
   "source": [
    "Beschreiben Sie, was sich ändert und versuchen Sie zu deuten, woran das liegt.\n",
    "\n",
    "<span style=\"color:blue\">(TODO - Schreiben Sie Ihre Antwort hier hin!) </span>"
   ]
  },
  {
   "cell_type": "markdown",
   "metadata": {},
   "source": [
    "## Aufgabe 6\n",
    "\n",
    "Setzen Sie jetzt umgekehrt den äußeren Bereich des k-Raums auf 0,\n",
    "rekonstrieren Sie das Bild und beschreiben Sie, was sich in diesem Fall ändert und versuchen zu deuten, woran das liegt. Probieren Sie hier ebenfalls verschiedene Werte für den Radius aus."
   ]
  },
  {
   "cell_type": "code",
   "execution_count": 10,
   "metadata": {},
   "outputs": [],
   "source": []
  },
  {
   "cell_type": "markdown",
   "metadata": {},
   "source": [
    "Beschreiben Sie, was sich ändert und versuchen Sie zu deuten, woran das liegt.\n",
    "\n",
    "<span style=\"color:blue\">(TODO - Schreiben Sie Ihre Antwort hier hin!) </span>"
   ]
  },
  {
   "cell_type": "markdown",
   "metadata": {},
   "source": [
    "## Aufgabe 7\n",
    "\n",
    "Rekonstruieren Sie den K-Raum ein weiteres mal, diesmal nachdem Sie jede zweite Zeile auf 0 gesetzt haben."
   ]
  },
  {
   "cell_type": "code",
   "execution_count": 10,
   "metadata": {},
   "outputs": [],
   "source": []
  },
  {
   "cell_type": "markdown",
   "metadata": {},
   "source": [
    "Beschreiben und deuten Sie das Ergebnis.\n",
    "\n",
    "<span style=\"color:blue\">(TODO - Schreiben Sie Ihre Antwort hier hin!) </span>\n"
   ]
  },
  {
   "cell_type": "markdown",
   "metadata": {},
   "source": [
    "## Aufgabe 8\n",
    "\n",
    "Rekonstruieren Sie den K-Raum ein weiteres mal, diesmal nachdem Sie jede zweite Spalte auf 0 gesetzt haben."
   ]
  },
  {
   "cell_type": "code",
   "execution_count": 10,
   "metadata": {},
   "outputs": [],
   "source": []
  },
  {
   "cell_type": "markdown",
   "metadata": {},
   "source": [
    "Beschreiben und deuten Sie das Ergebnis.\n",
    "\n",
    "<span style=\"color:blue\">(TODO - Schreiben Sie Ihre Antwort hier hin!) </span>"
   ]
  },
  {
   "cell_type": "markdown",
   "metadata": {},
   "source": [
    "## Aufgabe 9\n",
    "\n",
    "Setzen Sie nun einen Punkt im K-Raum auf einen hohen Wert (z.B. auf das Maximum der Daten)und rekonstruieren Sie das Bild. Probieren Sie dies mit verschiedenen Koordinaten aus."
   ]
  },
  {
   "cell_type": "code",
   "execution_count": 10,
   "metadata": {
    "collapsed": false,
    "pycharm": {
     "name": "#%%\n"
    }
   },
   "outputs": [],
   "source": []
  },
  {
   "cell_type": "markdown",
   "metadata": {
    "collapsed": false,
    "pycharm": {
     "name": "#%% md\n"
    }
   },
   "source": [
    "Beschreiben Sie, wie sich ein solcher (fehlerhafter) Ausreisser im K-Raum auswirkt und deuten Sie woran das liegt.\n",
    "\n",
    "<span style=\"color:blue\">(TODO - Schreiben Sie Ihre Antwort hier hin!) </span>"
   ]
  },
  {
   "cell_type": "markdown",
   "metadata": {
    "pycharm": {
     "name": "#%% md\n"
    }
   },
   "source": [
    "Nutzen Sie, wenn Sie Zeit haben, bei dieser Aufgabe nicht nur ein, sondern zwei ipywidgets, um die Koordinaten des Punktes dynamisch anpassen zu können.\n",
    "Gehen Sie auch die anderen Aufgaben noch einmal durch und setzen Sie auf die gleiche Art und Weise zum Beispiel den Radius oder die Anzahl der auf 0 zu setzenden Zeilen/Spalten."
   ]
  }
 ],
 "metadata": {
  "interpreter": {
   "hash": "9c8c30eef2882c704842cdfcd86d884fa745a9a6767516bdfa53b0ca1a3adbbd"
  },
  "kernelspec": {
   "display_name": "Python 3.9.12 ('chi')",
   "language": "python",
   "name": "python3"
  },
  "language_info": {
   "codemirror_mode": {
    "name": "ipython",
    "version": 3
   },
   "file_extension": ".py",
   "mimetype": "text/x-python",
   "name": "python",
   "nbconvert_exporter": "python",
   "pygments_lexer": "ipython3",
   "version": "3.9.12"
  }
 },
 "nbformat": 4,
 "nbformat_minor": 1
}
