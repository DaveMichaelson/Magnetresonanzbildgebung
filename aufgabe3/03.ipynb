{
 "cells": [
  {
   "cell_type": "markdown",
   "metadata": {
    "collapsed": true,
    "pycharm": {
     "name": "#%% md\n"
    }
   },
   "source": [
    "# Übung 02 - Multi-Channel Rekonstruktion"
   ]
  },
  {
   "cell_type": "code",
   "execution_count": null,
   "outputs": [],
   "source": [
    "import numpy as np\n",
    "from matplotlib import pyplot as plt\n",
    "from matplotlib import colors"
   ],
   "metadata": {
    "collapsed": false,
    "pycharm": {
     "name": "#%%\n"
    }
   }
  },
  {
   "cell_type": "code",
   "execution_count": null,
   "outputs": [],
   "source": [
    "plt.rcParams[\"figure.figsize\"] = (20,10)"
   ],
   "metadata": {
    "collapsed": false,
    "pycharm": {
     "name": "#%%\n"
    }
   }
  },
  {
   "cell_type": "markdown",
   "source": [
    "In der letzten Übung haben Sie den k-Raum und die Bildrekonstruktion mittels der iFFT kennengelernt. Die Daten, die Sie dabei verwendet haben, sind aber nicht nur deshalb unrealistisch, weil es sich um Phantom-Daten handelt, sondern auch, weil es nur eine Spule gab, die alle Daten perfekt aufnehmen konnte. In der Realität nutzt man allerdings immer mehrere Spulen und das Bild entsteht erst durch Kombination der Daten, die von den einzelnen Spulen erfasst wurden.\n",
    "Dies soll in den folgenden Aufgaben vertieft werden."
   ],
   "metadata": {
    "collapsed": false,
    "pycharm": {
     "name": "#%% md\n"
    }
   }
  },
  {
   "cell_type": "markdown",
   "source": [
    "## Aufgabe 1\n",
    "\n",
    "Laden Sie die Datei \"phantom_8channel_256x256.npy\" aus Stud.IP herunter und platzieren Sie diese im selben Ordner, wie dieses Notebook. Führen Sie dann die folgende Zeile aus, um die k-Raum Daten zu laden"
   ],
   "metadata": {
    "collapsed": false,
    "pycharm": {
     "name": "#%% md\n"
    }
   }
  },
  {
   "cell_type": "code",
   "execution_count": null,
   "outputs": [],
   "source": [
    "kspace = np.load('phantom_8channel_256x256.npy')"
   ],
   "metadata": {
    "collapsed": false,
    "pycharm": {
     "name": "#%%\n"
    }
   }
  },
  {
   "cell_type": "markdown",
   "source": [
    "Der k-Raum hat jetzt eine zusätzliche Dimension für die verschiedenen Spulen. Rekonstruieren Sie zunächst die Bilder von allen Spulen separat und visualisieren Sie diese (mithilfe von subplots)"
   ],
   "metadata": {
    "collapsed": false,
    "pycharm": {
     "name": "#%% md\n"
    }
   }
  },
  {
   "cell_type": "code",
   "execution_count": null,
   "outputs": [],
   "source": [],
   "metadata": {
    "collapsed": false,
    "pycharm": {
     "name": "#%%\n"
    }
   }
  },
  {
   "cell_type": "markdown",
   "source": [
    "Was fällt bei den Bildern auf? Warum benötigt man mehr als eine Spule?\n",
    "\n",
    "<span style=\"color:blue\">(TODO - Schreiben Sie Ihre Antwort hier hin!) </span>"
   ],
   "metadata": {
    "collapsed": false,
    "pycharm": {
     "name": "#%% md\n"
    }
   }
  },
  {
   "cell_type": "markdown",
   "source": [
    "## Aufgabe 2\n",
    "\n",
    "Die einfachste Möglichkeit, die Bilder zusammenzuführen ist über den Sum-of-Squares-Ansatz. Sei $m_{i}(x, y)$ das rekonstruierte Bild der $i$-ten Spule, dann wird das kombinierte Bild $m(x,y)$ aus den Bildern der einzelnen Spulen wie folgt berechnet:\n",
    "$$\n",
    "m(x,y) = \\sqrt{\\sum_i |m_{i}(x,y)|^2}\n",
    "$$\n",
    "\n",
    "Berechnen Sie das Bild, das durch diese Methode entsteht und visualisieren Sie es."
   ],
   "metadata": {
    "collapsed": false
   }
  },
  {
   "cell_type": "code",
   "execution_count": null,
   "outputs": [],
   "source": [],
   "metadata": {
    "collapsed": false,
    "pycharm": {
     "name": "#%%\n"
    }
   }
  },
  {
   "cell_type": "markdown",
   "source": [
    "Was könnten Vor- und Nachteile dieser Methode sein? Warum nimmt man das Betragsquadrat und summiert nicht einfach direkt entlang der Spulen-Dimension?\n",
    "\n",
    "<span style=\"color:blue\">(TODO - Schreiben Sie Ihre Antwort hier hin!) </span>\n"
   ],
   "metadata": {
    "collapsed": false
   }
  },
  {
   "cell_type": "markdown",
   "source": [
    "## Aufgabe 3\n",
    "\n",
    "Für einige Anwendungen in der MR-Bildgebung benötigt man Karten der räumlichen Sensitivität der einzelnen Spulen. Ein einfacher Ansatz, um die Sensitivitätskarte $C_i(x,y)$ der $i$-ten Spule zu berechnen funktioniert wie folgt:\n",
    "$$\n",
    "C_i(x,y) = \\frac{m_{i}(x,y)}{\\sqrt{\\sum_j |m_{j}(x,y)|^2}}\n",
    "$$\n",
    "\n",
    "Außerdem müssen die Sensitivitätskarten stark geglättet werden, da sich die Sensitivitäten recht langsam räumlich ändern.\n",
    "\n",
    "Berechnen Sie die Sensitivitätskarten für alle Spulen und visualisieren Sie diese.\n",
    "\n",
    "Tipp: Für die Glättung gibt es eine recht einfache Möglichkeit. Denken Sie an die Aufgaben auf dem letzten Notebook zurück.\n"
   ],
   "metadata": {
    "collapsed": false
   }
  },
  {
   "cell_type": "code",
   "execution_count": null,
   "outputs": [],
   "source": [],
   "metadata": {
    "collapsed": false,
    "pycharm": {
     "name": "#%%\n"
    }
   }
  },
  {
   "cell_type": "markdown",
   "source": [
    "Was fällt bei den Sensitivitätskarten auf?\n",
    "\n",
    "<span style=\"color:blue\">(TODO - Schreiben Sie Ihre Antwort hier hin!) </span>\n"
   ],
   "metadata": {
    "collapsed": false,
    "pycharm": {
     "name": "#%% md\n"
    }
   }
  },
  {
   "cell_type": "markdown",
   "source": [
    "## Aufgabe 4\n",
    "\n",
    "Mithilfe der Spulensensitivitäten lässt sich eine andere Methode verwenden, um die Bilder der einzelnen Spulen zu kombinieren, die Weighted-Sums-Methode:\n",
    "\n",
    "$$\n",
    "m(x,y) = \\frac{\\sum_i C_i^\\ast \\cdot m_i(x,y)}{\\sum_j |C_j(x,y)|^2}\n",
    "$$\n",
    "\n",
    "$\\ast$ steht für die komplexe Konjugation\n",
    "\n",
    "Verwenden Sie nun diese Methode, um die Spulen zu kombinieren und visualisieren Sie das Ergebnis."
   ],
   "metadata": {
    "collapsed": false
   }
  },
  {
   "cell_type": "code",
   "execution_count": null,
   "outputs": [],
   "source": [],
   "metadata": {
    "collapsed": false,
    "pycharm": {
     "name": "#%%\n"
    }
   }
  },
  {
   "cell_type": "markdown",
   "source": [
    "Worin unterscheidet sich diese Methode von der Sum-Of-Squares-Methode? Was sind Vor- und Nachteile?\n",
    "\n",
    "<span style=\"color:blue\">(TODO - Schreiben Sie Ihre Antwort hier hin!) </span>"
   ],
   "metadata": {
    "collapsed": false,
    "pycharm": {
     "name": "#%% md\n"
    }
   }
  }
 ],
 "metadata": {
  "kernelspec": {
   "display_name": "Python 3",
   "language": "python",
   "name": "python3"
  },
  "language_info": {
   "codemirror_mode": {
    "name": "ipython",
    "version": 2
   },
   "file_extension": ".py",
   "mimetype": "text/x-python",
   "name": "python",
   "nbconvert_exporter": "python",
   "pygments_lexer": "ipython2",
   "version": "2.7.6"
  }
 },
 "nbformat": 4,
 "nbformat_minor": 0
}